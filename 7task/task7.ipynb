{
 "cells": [
  {
   "cell_type": "markdown",
   "metadata": {},
   "source": [
    "# <a href=\"https://miptstats.github.io/courses/ad_fivt.html\">Введение в анализ данных</a>\n",
    "## Домашнее задание 7. Решающие деревья и случайные леса.\n"
   ]
  },
  {
   "cell_type": "markdown",
   "metadata": {},
   "source": [
    "**Правила, <font color=\"red\">прочитайте внимательно</font>:**\n",
    "\n",
    "* Выполненную работу нужно отправить телеграм-боту `@miptstats_ds23_bot`. Для начала работы с ботом каждый раз отправляйте `/start`. Дождитесь подтверждения от бота, что он принял файл. Если подтверждения нет, то что-то не так. **Работы, присланные иным способом, не принимаются.**\n",
    "* Дедлайн см. в боте. После дедлайна работы не принимаются кроме случаев наличия уважительной причины.\n",
    "* Прислать нужно **ноутбук в формате `ipynb`**. Если вы строите интерактивные графики, их стоит прислать в формате html.\n",
    "* Следите за размером файлов. **Бот не может принимать файлы весом более 20 Мб.** Если файл получается больше, заранее разделите его на несколько.\n",
    "* Выполнять задание необходимо полностью самостоятельно. **При обнаружении списывания все участники списывания будут сдавать устный зачет.**\n",
    "* Решения, размещенные на каких-либо интернет-ресурсах, не принимаются. Кроме того, публикация решения в открытом доступе может быть приравнена к предоставлении возможности списать.\n",
    "* Для выполнения задания используйте этот ноутбук в качестве основы, ничего не удаляя из него. Можно добавлять необходимое количество ячеек.\n",
    "* Комментарии к решению пишите в markdown-ячейках.\n",
    "* Выполнение задания (ход решения, выводы и пр.) должно быть осуществлено на русском языке.\n",
    "* Если код будет не понятен проверяющему, оценка может быть снижена.\n",
    "* Никакой код из данного задания при проверке запускаться не будет. *Если код студента не выполнен, недописан и т.д., то он не оценивается.*\n",
    "* **Код из рассказанных на занятиях ноутбуков** можно использовать без ограничений.\n",
    "\n",
    "\n",
    "\n",
    "\n",
    "**Баллы за задание:**\n",
    "\n",
    "* Задача 1 &mdash; 15 баллов\n",
    "* Задача 2 &mdash; 50 баллов\n",
    "* Задача 3 &mdash; 30 баллов\n",
    "\n",
    "Баллы учитываются в <b><font color=\"green\">факультативной части</font></b> курса и не влияют на оценку по основной части."
   ]
  },
  {
   "cell_type": "code",
   "execution_count": 37,
   "metadata": {},
   "outputs": [],
   "source": [
    "# Bot check\n",
    "\n",
    "# HW_ID: fpmi_ad7\n",
    "# Бот проверит этот ID и предупредит, если случайно сдать что-то не то.\n",
    "\n",
    "# Status: final\n",
    "# Перед отправкой в финальном решении удали \"not\" в строчке выше.\n",
    "# Так бот проверит, что ты отправляешь финальную версию, а не промежуточную.\n",
    "# Никакие значения в этой ячейке не влияют на факт сдачи работы."
   ]
  },
  {
   "cell_type": "code",
   "execution_count": 38,
   "metadata": {},
   "outputs": [],
   "source": [
    "import numpy as np\n",
    "import pandas as pd\n",
    "import matplotlib.pyplot as plt\n",
    "import seaborn as sns\n",
    "import graphviz\n",
    "sns.set(style='whitegrid', font_scale=1.3, palette='Set2')"
   ]
  },
  {
   "cell_type": "markdown",
   "metadata": {},
   "source": [
    "При решении задания используйте `sklearn`. Пропишите сюда необходимые импорты"
   ]
  },
  {
   "cell_type": "code",
   "execution_count": 39,
   "metadata": {},
   "outputs": [],
   "source": [
    "from sklearn import datasets\n",
    "from sklearn import metrics\n",
    "from sklearn.tree import DecisionTreeClassifier, DecisionTreeRegressor, export_graphviz\n",
    "from sklearn.ensemble import RandomForestClassifier, RandomForestRegressor\n",
    "from sklearn.model_selection import train_test_split\n",
    "from sklearn.preprocessing import OneHotEncoder\n",
    "\n",
    "from matplotlib.colors import ListedColormap"
   ]
  },
  {
   "cell_type": "markdown",
   "metadata": {},
   "source": [
    "Перед выполнением задания обязательно посмотрите <a href=\"https://miptstats.github.io/courses/ad_fivt/trees.html\">ноутбук</a> с занятия по решающим деревьям."
   ]
  },
  {
   "cell_type": "markdown",
   "metadata": {},
   "source": [
    "---\n",
    "### Задача 1.\n",
    "\n",
    "Перед обучением линейной регрессии вы могли совершать некоторые преобразования над признаками. Какие преобразования стоит совершить перед обучением решающего дерева?\n",
    "\n",
    "В частности, ответьте на вопрос, имеет ли смысл примененять следующие преобразования:\n",
    "* монотонные функции от одного признака;\n",
    "* немонотонные функции от одного признака;\n",
    "* линейные функции от нескольких признаков;\n",
    "* нелинейные функции от нескольких признаков;\n",
    "* стандартизация признаков;\n",
    "* преобразования категориальных признаков.\n",
    "\n",
    "Например, вместо/дополнительно признака $x_j$ рассматривать признак $f(x_j)$, для указанных выше типов функций."
   ]
  },
  {
   "cell_type": "markdown",
   "metadata": {},
   "source": [
    "* Не имеет смысла применять монотонные функции от одного признака, так как решения в вершинах дерева не изменятся, а следовательно и результат работы.\n",
    "* Немонотонные функции для одного вещественного признака не подходят, так как они могут не сохранять отношения порядка, что важно при построении обучающего дерева.\n",
    "* Линейные функции использовать также не имеет смысла по той же причине, что и монотонные функции от одного признака, поскольку условия сравнения в вершинах накладываются только на значения одного и того же признака (и только потом результаты для разных признаков используются).\n",
    "* Нелинейные функции теоретически могут быть полезны, но не в нашем случае, когда мы ищем простейшие зависимости.\n",
    "* Стандартизация признаков может производиться, но является опциональной, поскольку не повлияет на результат работы дерева, только (возможно) на время работы.\n",
    "* Преобразование категориальных признаков обязательно, если мы хотим их учитывать при работе с деревом, поскольку работа возможна только  с вещественными. "
   ]
  },
  {
   "cell_type": "markdown",
   "metadata": {},
   "source": [
    "---\n",
    "### Задача 2.\n",
    "\n",
    "Рассмотрим данные из <a href=\"https://miptstats.github.io/courses/ad_fivt/task6.html\" target=\"_blank\">предыдущего домашнего задания</a>. Скачайте данные и разделите их на три части &mdash; обучающую, валидационную и тестовую в соотношении 3:1:1."
   ]
  },
  {
   "cell_type": "code",
   "execution_count": 40,
   "metadata": {},
   "outputs": [],
   "source": [
    "day_df = pd.read_csv('day.csv', parse_dates=[0])"
   ]
  },
  {
   "cell_type": "markdown",
   "metadata": {},
   "source": [
    "Удаляем признаки, которые мы отметили как бесполезные в прошлом задании:"
   ]
  },
  {
   "cell_type": "code",
   "execution_count": 41,
   "metadata": {},
   "outputs": [
    {
     "data": {
      "text/html": [
       "<div>\n",
       "<style scoped>\n",
       "    .dataframe tbody tr th:only-of-type {\n",
       "        vertical-align: middle;\n",
       "    }\n",
       "\n",
       "    .dataframe tbody tr th {\n",
       "        vertical-align: top;\n",
       "    }\n",
       "\n",
       "    .dataframe thead th {\n",
       "        text-align: right;\n",
       "    }\n",
       "</style>\n",
       "<table border=\"1\" class=\"dataframe\">\n",
       "  <thead>\n",
       "    <tr style=\"text-align: right;\">\n",
       "      <th></th>\n",
       "      <th>mnth</th>\n",
       "      <th>holiday</th>\n",
       "      <th>weekday</th>\n",
       "      <th>workingday</th>\n",
       "      <th>weathersit</th>\n",
       "      <th>temp</th>\n",
       "      <th>hum</th>\n",
       "      <th>windspeed</th>\n",
       "      <th>cnt</th>\n",
       "    </tr>\n",
       "  </thead>\n",
       "  <tbody>\n",
       "    <tr>\n",
       "      <th>0</th>\n",
       "      <td>1</td>\n",
       "      <td>0</td>\n",
       "      <td>6</td>\n",
       "      <td>0</td>\n",
       "      <td>2</td>\n",
       "      <td>0.344167</td>\n",
       "      <td>0.805833</td>\n",
       "      <td>0.160446</td>\n",
       "      <td>985</td>\n",
       "    </tr>\n",
       "    <tr>\n",
       "      <th>1</th>\n",
       "      <td>1</td>\n",
       "      <td>0</td>\n",
       "      <td>0</td>\n",
       "      <td>0</td>\n",
       "      <td>2</td>\n",
       "      <td>0.363478</td>\n",
       "      <td>0.696087</td>\n",
       "      <td>0.248539</td>\n",
       "      <td>801</td>\n",
       "    </tr>\n",
       "    <tr>\n",
       "      <th>2</th>\n",
       "      <td>1</td>\n",
       "      <td>0</td>\n",
       "      <td>1</td>\n",
       "      <td>1</td>\n",
       "      <td>1</td>\n",
       "      <td>0.196364</td>\n",
       "      <td>0.437273</td>\n",
       "      <td>0.248309</td>\n",
       "      <td>1349</td>\n",
       "    </tr>\n",
       "    <tr>\n",
       "      <th>3</th>\n",
       "      <td>1</td>\n",
       "      <td>0</td>\n",
       "      <td>2</td>\n",
       "      <td>1</td>\n",
       "      <td>1</td>\n",
       "      <td>0.200000</td>\n",
       "      <td>0.590435</td>\n",
       "      <td>0.160296</td>\n",
       "      <td>1562</td>\n",
       "    </tr>\n",
       "    <tr>\n",
       "      <th>4</th>\n",
       "      <td>1</td>\n",
       "      <td>0</td>\n",
       "      <td>3</td>\n",
       "      <td>1</td>\n",
       "      <td>1</td>\n",
       "      <td>0.226957</td>\n",
       "      <td>0.436957</td>\n",
       "      <td>0.186900</td>\n",
       "      <td>1600</td>\n",
       "    </tr>\n",
       "    <tr>\n",
       "      <th>...</th>\n",
       "      <td>...</td>\n",
       "      <td>...</td>\n",
       "      <td>...</td>\n",
       "      <td>...</td>\n",
       "      <td>...</td>\n",
       "      <td>...</td>\n",
       "      <td>...</td>\n",
       "      <td>...</td>\n",
       "      <td>...</td>\n",
       "    </tr>\n",
       "    <tr>\n",
       "      <th>726</th>\n",
       "      <td>12</td>\n",
       "      <td>0</td>\n",
       "      <td>4</td>\n",
       "      <td>1</td>\n",
       "      <td>2</td>\n",
       "      <td>0.254167</td>\n",
       "      <td>0.652917</td>\n",
       "      <td>0.350133</td>\n",
       "      <td>2114</td>\n",
       "    </tr>\n",
       "    <tr>\n",
       "      <th>727</th>\n",
       "      <td>12</td>\n",
       "      <td>0</td>\n",
       "      <td>5</td>\n",
       "      <td>1</td>\n",
       "      <td>2</td>\n",
       "      <td>0.253333</td>\n",
       "      <td>0.590000</td>\n",
       "      <td>0.155471</td>\n",
       "      <td>3095</td>\n",
       "    </tr>\n",
       "    <tr>\n",
       "      <th>728</th>\n",
       "      <td>12</td>\n",
       "      <td>0</td>\n",
       "      <td>6</td>\n",
       "      <td>0</td>\n",
       "      <td>2</td>\n",
       "      <td>0.253333</td>\n",
       "      <td>0.752917</td>\n",
       "      <td>0.124383</td>\n",
       "      <td>1341</td>\n",
       "    </tr>\n",
       "    <tr>\n",
       "      <th>729</th>\n",
       "      <td>12</td>\n",
       "      <td>0</td>\n",
       "      <td>0</td>\n",
       "      <td>0</td>\n",
       "      <td>1</td>\n",
       "      <td>0.255833</td>\n",
       "      <td>0.483333</td>\n",
       "      <td>0.350754</td>\n",
       "      <td>1796</td>\n",
       "    </tr>\n",
       "    <tr>\n",
       "      <th>730</th>\n",
       "      <td>12</td>\n",
       "      <td>0</td>\n",
       "      <td>1</td>\n",
       "      <td>1</td>\n",
       "      <td>2</td>\n",
       "      <td>0.215833</td>\n",
       "      <td>0.577500</td>\n",
       "      <td>0.154846</td>\n",
       "      <td>2729</td>\n",
       "    </tr>\n",
       "  </tbody>\n",
       "</table>\n",
       "<p>731 rows × 9 columns</p>\n",
       "</div>"
      ],
      "text/plain": [
       "     mnth  holiday  weekday  workingday  weathersit      temp       hum  \\\n",
       "0       1        0        6           0           2  0.344167  0.805833   \n",
       "1       1        0        0           0           2  0.363478  0.696087   \n",
       "2       1        0        1           1           1  0.196364  0.437273   \n",
       "3       1        0        2           1           1  0.200000  0.590435   \n",
       "4       1        0        3           1           1  0.226957  0.436957   \n",
       "..    ...      ...      ...         ...         ...       ...       ...   \n",
       "726    12        0        4           1           2  0.254167  0.652917   \n",
       "727    12        0        5           1           2  0.253333  0.590000   \n",
       "728    12        0        6           0           2  0.253333  0.752917   \n",
       "729    12        0        0           0           1  0.255833  0.483333   \n",
       "730    12        0        1           1           2  0.215833  0.577500   \n",
       "\n",
       "     windspeed   cnt  \n",
       "0     0.160446   985  \n",
       "1     0.248539   801  \n",
       "2     0.248309  1349  \n",
       "3     0.160296  1562  \n",
       "4     0.186900  1600  \n",
       "..         ...   ...  \n",
       "726   0.350133  2114  \n",
       "727   0.155471  3095  \n",
       "728   0.124383  1341  \n",
       "729   0.350754  1796  \n",
       "730   0.154846  2729  \n",
       "\n",
       "[731 rows x 9 columns]"
      ]
     },
     "execution_count": 41,
     "metadata": {},
     "output_type": "execute_result"
    }
   ],
   "source": [
    "todrop = ['instant', 'dteday', 'yr', 'casual', 'registered', 'atemp', 'season']\n",
    "day_df.drop(inplace=True, columns=todrop, axis=1)\n",
    "day_df"
   ]
  },
  {
   "cell_type": "code",
   "execution_count": 42,
   "metadata": {},
   "outputs": [],
   "source": [
    "train, test = train_test_split(day_df, test_size=0.4)\n",
    "valid, test = train_test_split(test, test_size=0.5)"
   ]
  },
  {
   "cell_type": "markdown",
   "metadata": {},
   "source": [
    "Выполните необходимые преобразования признаков.\n",
    "\n",
    "*Замечание.* Если в валидационной и/или тестовой частях есть \"большие\" выбросы, их стоит убрать. Наша модель не должна пытаться их предсказать, но в то же время выбросы вносят существенный вклад в значение метрики. "
   ]
  },
  {
   "cell_type": "code",
   "execution_count": 43,
   "metadata": {},
   "outputs": [],
   "source": [
    "categorial_features = ['mnth', 'holiday', 'weekday', 'workingday', 'weathersit']\n",
    "real_features = ['temp', 'hum', 'windspeed']\n",
    "target_feature = 'cnt'"
   ]
  },
  {
   "cell_type": "markdown",
   "metadata": {},
   "source": [
    "Удаляем выбросы для каждого значения категориальных признаков (по вещественным) используя принцип построения boxplot:"
   ]
  },
  {
   "cell_type": "code",
   "execution_count": 44,
   "metadata": {},
   "outputs": [],
   "source": [
    "train['holiday'] = train['holiday'].apply(lambda x: x + 1)\n",
    "train['weekday'] = train['weekday'].apply(lambda x: x + 1)\n",
    "train['workingday'] = train['workingday'].apply(lambda x: x + 1)\n",
    "\n",
    "for hue in categorial_features:  # режем данные для удаления выбросов по вещественным осям train\n",
    "    for real_hue in (real_features  + [target_feature]):\n",
    "        low_q = train[[hue] + [real_hue]].groupby(hue).quantile(0.25)\n",
    "        high_q = train[[hue] + [real_hue]].groupby(hue).quantile(0.75)\n",
    "        dif = 1.5 * (high_q - low_q)\n",
    "        low_q -= dif\n",
    "        high_q += dif\n",
    "        train['high_q'] = train[hue].apply(lambda x: high_q[real_hue].iloc[int(x) - 1])\n",
    "        train['low_q'] = train[hue].apply(lambda x: low_q[real_hue].iloc[int(x) - 1])\n",
    "        train = train[(train['low_q'] < train[real_hue]) & (train['high_q'] > train[real_hue])]\n",
    "        train = train.drop(columns=['high_q', 'low_q'])"
   ]
  },
  {
   "cell_type": "code",
   "execution_count": 45,
   "metadata": {},
   "outputs": [],
   "source": [
    "valid['holiday'] = valid['holiday'].apply(lambda x: x + 1)\n",
    "valid['weekday'] = valid['weekday'].apply(lambda x: x + 1)\n",
    "valid['workingday'] = valid['workingday'].apply(lambda x: x + 1)\n",
    "\n",
    "for hue in categorial_features:  # режем данные для удаления выбросов по вещественным осям valid\n",
    "    for real_hue in (real_features):\n",
    "        low_q = valid[[hue] + [real_hue]].groupby(hue).quantile(0.25)\n",
    "        high_q = valid[[hue] + [real_hue]].groupby(hue).quantile(0.75)\n",
    "        dif = 1.5 * (high_q - low_q)\n",
    "        low_q -= dif\n",
    "        high_q += dif\n",
    "        valid['high_q'] = valid[hue].apply(lambda x: high_q[real_hue].iloc[int(x) - 1])\n",
    "        valid['low_q'] = valid[hue].apply(lambda x: low_q[real_hue].iloc[int(x) - 1])\n",
    "        valid = valid[(valid['low_q'] < valid[real_hue]) & (valid['high_q'] > valid[real_hue])]\n",
    "        valid = valid.drop(columns=['high_q', 'low_q'])"
   ]
  },
  {
   "cell_type": "code",
   "execution_count": 46,
   "metadata": {},
   "outputs": [],
   "source": [
    "test['holiday'] = test['holiday'].apply(lambda x: x + 1)\n",
    "test['weekday'] = test['weekday'].apply(lambda x: x + 1)\n",
    "test['workingday'] = test['workingday'].apply(lambda x: x + 1)\n",
    "\n",
    "for hue in categorial_features:  # режем данные для удаления выбросов по вещественным осям test\n",
    "    for real_hue in (real_features):\n",
    "        low_q = test[[hue] + [real_hue]].groupby(hue).quantile(0.25)\n",
    "        high_q = test[[hue] + [real_hue]].groupby(hue).quantile(0.75)\n",
    "        dif = 1.5 * (high_q - low_q)\n",
    "        low_q -= dif\n",
    "        high_q += dif\n",
    "        test['high_q'] = test[hue].apply(lambda x: high_q[real_hue].iloc[int(x) - 1])\n",
    "        test['low_q'] = test[hue].apply(lambda x: low_q[real_hue].iloc[int(x) - 1])\n",
    "        test = test[(test['low_q'] < test[real_hue]) & (test['high_q'] > test[real_hue])]\n",
    "        test = test.drop(columns=['high_q', 'low_q'])"
   ]
  },
  {
   "cell_type": "markdown",
   "metadata": {},
   "source": [
    "Кодируем категориальные признаки:"
   ]
  },
  {
   "cell_type": "code",
   "execution_count": 47,
   "metadata": {},
   "outputs": [
    {
     "data": {
      "text/plain": [
       "[array([ 1,  2,  3,  4,  5,  6,  7,  8,  9, 10, 11, 12]),\n",
       " array([1, 2]),\n",
       " array([1, 2, 3, 4, 5, 6, 7]),\n",
       " array([1, 2]),\n",
       " array([1, 2, 3])]"
      ]
     },
     "execution_count": 47,
     "metadata": {},
     "output_type": "execute_result"
    }
   ],
   "source": [
    "encoder = OneHotEncoder(drop=None, sparse_output=False)\n",
    "encoder.fit(train[categorial_features])\n",
    "encoder.categories_"
   ]
  },
  {
   "cell_type": "code",
   "execution_count": 48,
   "metadata": {},
   "outputs": [],
   "source": [
    "train_cat = encoder.transform(train[categorial_features])\n",
    "X_train = np.hstack([train[real_features], train_cat])\n",
    "Y_train = train[target_feature]\n",
    "\n",
    "valid_cat = encoder.transform(valid[categorial_features])\n",
    "X_valid = np.hstack([valid[real_features], valid_cat])\n",
    "Y_valid = valid[target_feature]\n",
    "\n",
    "test_cat = encoder.transform(test[categorial_features])\n",
    "X_test = np.hstack([test[real_features], test_cat])\n",
    "Y_test = test[target_feature]"
   ]
  },
  {
   "cell_type": "markdown",
   "metadata": {},
   "source": [
    "Обучите решающее дерево глубины 3 и визуализируйте его. \n",
    "\n",
    "*Рекомендуется сохранить визуализацию в html и отправить ее вместе с решением.*"
   ]
  },
  {
   "cell_type": "code",
   "execution_count": 49,
   "metadata": {},
   "outputs": [
    {
     "data": {
      "text/html": [
       "<style>#sk-container-id-3 {color: black;background-color: white;}#sk-container-id-3 pre{padding: 0;}#sk-container-id-3 div.sk-toggleable {background-color: white;}#sk-container-id-3 label.sk-toggleable__label {cursor: pointer;display: block;width: 100%;margin-bottom: 0;padding: 0.3em;box-sizing: border-box;text-align: center;}#sk-container-id-3 label.sk-toggleable__label-arrow:before {content: \"▸\";float: left;margin-right: 0.25em;color: #696969;}#sk-container-id-3 label.sk-toggleable__label-arrow:hover:before {color: black;}#sk-container-id-3 div.sk-estimator:hover label.sk-toggleable__label-arrow:before {color: black;}#sk-container-id-3 div.sk-toggleable__content {max-height: 0;max-width: 0;overflow: hidden;text-align: left;background-color: #f0f8ff;}#sk-container-id-3 div.sk-toggleable__content pre {margin: 0.2em;color: black;border-radius: 0.25em;background-color: #f0f8ff;}#sk-container-id-3 input.sk-toggleable__control:checked~div.sk-toggleable__content {max-height: 200px;max-width: 100%;overflow: auto;}#sk-container-id-3 input.sk-toggleable__control:checked~label.sk-toggleable__label-arrow:before {content: \"▾\";}#sk-container-id-3 div.sk-estimator input.sk-toggleable__control:checked~label.sk-toggleable__label {background-color: #d4ebff;}#sk-container-id-3 div.sk-label input.sk-toggleable__control:checked~label.sk-toggleable__label {background-color: #d4ebff;}#sk-container-id-3 input.sk-hidden--visually {border: 0;clip: rect(1px 1px 1px 1px);clip: rect(1px, 1px, 1px, 1px);height: 1px;margin: -1px;overflow: hidden;padding: 0;position: absolute;width: 1px;}#sk-container-id-3 div.sk-estimator {font-family: monospace;background-color: #f0f8ff;border: 1px dotted black;border-radius: 0.25em;box-sizing: border-box;margin-bottom: 0.5em;}#sk-container-id-3 div.sk-estimator:hover {background-color: #d4ebff;}#sk-container-id-3 div.sk-parallel-item::after {content: \"\";width: 100%;border-bottom: 1px solid gray;flex-grow: 1;}#sk-container-id-3 div.sk-label:hover label.sk-toggleable__label {background-color: #d4ebff;}#sk-container-id-3 div.sk-serial::before {content: \"\";position: absolute;border-left: 1px solid gray;box-sizing: border-box;top: 0;bottom: 0;left: 50%;z-index: 0;}#sk-container-id-3 div.sk-serial {display: flex;flex-direction: column;align-items: center;background-color: white;padding-right: 0.2em;padding-left: 0.2em;position: relative;}#sk-container-id-3 div.sk-item {position: relative;z-index: 1;}#sk-container-id-3 div.sk-parallel {display: flex;align-items: stretch;justify-content: center;background-color: white;position: relative;}#sk-container-id-3 div.sk-item::before, #sk-container-id-3 div.sk-parallel-item::before {content: \"\";position: absolute;border-left: 1px solid gray;box-sizing: border-box;top: 0;bottom: 0;left: 50%;z-index: -1;}#sk-container-id-3 div.sk-parallel-item {display: flex;flex-direction: column;z-index: 1;position: relative;background-color: white;}#sk-container-id-3 div.sk-parallel-item:first-child::after {align-self: flex-end;width: 50%;}#sk-container-id-3 div.sk-parallel-item:last-child::after {align-self: flex-start;width: 50%;}#sk-container-id-3 div.sk-parallel-item:only-child::after {width: 0;}#sk-container-id-3 div.sk-dashed-wrapped {border: 1px dashed gray;margin: 0 0.4em 0.5em 0.4em;box-sizing: border-box;padding-bottom: 0.4em;background-color: white;}#sk-container-id-3 div.sk-label label {font-family: monospace;font-weight: bold;display: inline-block;line-height: 1.2em;}#sk-container-id-3 div.sk-label-container {text-align: center;}#sk-container-id-3 div.sk-container {/* jupyter's `normalize.less` sets `[hidden] { display: none; }` but bootstrap.min.css set `[hidden] { display: none !important; }` so we also need the `!important` here to be able to override the default hidden behavior on the sphinx rendered scikit-learn.org. See: https://github.com/scikit-learn/scikit-learn/issues/21755 */display: inline-block !important;position: relative;}#sk-container-id-3 div.sk-text-repr-fallback {display: none;}</style><div id=\"sk-container-id-3\" class=\"sk-top-container\"><div class=\"sk-text-repr-fallback\"><pre>DecisionTreeClassifier(max_depth=3, random_state=42)</pre><b>In a Jupyter environment, please rerun this cell to show the HTML representation or trust the notebook. <br />On GitHub, the HTML representation is unable to render, please try loading this page with nbviewer.org.</b></div><div class=\"sk-container\" hidden><div class=\"sk-item\"><div class=\"sk-estimator sk-toggleable\"><input class=\"sk-toggleable__control sk-hidden--visually\" id=\"sk-estimator-id-3\" type=\"checkbox\" checked><label for=\"sk-estimator-id-3\" class=\"sk-toggleable__label sk-toggleable__label-arrow\">DecisionTreeClassifier</label><div class=\"sk-toggleable__content\"><pre>DecisionTreeClassifier(max_depth=3, random_state=42)</pre></div></div></div></div></div>"
      ],
      "text/plain": [
       "DecisionTreeClassifier(max_depth=3, random_state=42)"
      ]
     },
     "execution_count": 49,
     "metadata": {},
     "output_type": "execute_result"
    }
   ],
   "source": [
    "clf = DecisionTreeClassifier(random_state=42, max_depth=3)\n",
    "clf.fit(X_train, Y_train)"
   ]
  },
  {
   "cell_type": "code",
   "execution_count": 50,
   "metadata": {},
   "outputs": [
    {
     "data": {
      "text/plain": [
       "0.3760070783613227"
      ]
     },
     "execution_count": 50,
     "metadata": {},
     "output_type": "execute_result"
    }
   ],
   "source": [
    "predictions = clf.predict(X_valid)\n",
    "metrics.mean_absolute_percentage_error(predictions, Y_valid)"
   ]
  },
  {
   "cell_type": "markdown",
   "metadata": {},
   "source": [
    "Подберите оптимальное значение максимальной глубины дерева. Для этого обучите решающие деревья с выставленным значением соответствующего гиперпараметра и посчитайте ошибку предсказаний каждого из них на валидационной выборке. Постройте соответствующий график."
   ]
  },
  {
   "cell_type": "code",
   "execution_count": 51,
   "metadata": {},
   "outputs": [],
   "source": [
    "errors = list()\n",
    "\n",
    "for i in np.arange(30):\n",
    "    clf = DecisionTreeClassifier(random_state=42, max_depth=i + 1)\n",
    "    clf.fit(X_train, Y_train)\n",
    "    predictions = clf.predict(X_valid)\n",
    "    errors.append(metrics.mean_absolute_percentage_error(predictions, Y_valid))"
   ]
  },
  {
   "cell_type": "code",
   "execution_count": 52,
   "metadata": {},
   "outputs": [
    {
     "data": {
      "text/plain": [
       "Text(0.5, 1.0, 'Зависимость ошибки предсказаний от максимальной глубины дерева')"
      ]
     },
     "execution_count": 52,
     "metadata": {},
     "output_type": "execute_result"
    },
    {
     "data": {
      "image/png": "[encoded data removed]",
      "text/plain": [
       "<Figure size 1000x500 with 1 Axes>"
      ]
     },
     "metadata": {},
     "output_type": "display_data"
    }
   ],
   "source": [
    "plt.figure(figsize=(10, 5))\n",
    "plt.plot(np.arange(30) + 1, errors, lw=2.5, color='red')\n",
    "plt.ylabel('MAPE')\n",
    "plt.xlabel('n')\n",
    "plt.title('Зависимость ошибки предсказаний от максимальной глубины дерева')"
   ]
  },
  {
   "cell_type": "markdown",
   "metadata": {},
   "source": [
    "Как можно заметить, ошибка достигает своего минимума и перестает изменяться примерно при значении максимальной глубины равном 27."
   ]
  },
  {
   "cell_type": "markdown",
   "metadata": {},
   "source": [
    "Аналогичным образом подберите минимальное число объектов в листе, зафиксировав при этом подобранное значение максимальной глубины."
   ]
  },
  {
   "cell_type": "code",
   "execution_count": 53,
   "metadata": {},
   "outputs": [],
   "source": [
    "errors2 = list()\n",
    "\n",
    "for i in np.arange(200):\n",
    "    clf = DecisionTreeClassifier(random_state=42, max_depth=27, min_samples_leaf=i + 1)\n",
    "    clf.fit(X_train, Y_train)\n",
    "    predictions = clf.predict(X_valid)\n",
    "    errors2.append(metrics.mean_absolute_percentage_error(predictions, Y_valid))"
   ]
  },
  {
   "cell_type": "code",
   "execution_count": 54,
   "metadata": {},
   "outputs": [
    {
     "data": {
      "text/plain": [
       "Text(0.5, 1.0, 'Зависимость ошибки предсказаний от минимального числа объектов в листе')"
      ]
     },
     "execution_count": 54,
     "metadata": {},
     "output_type": "execute_result"
    },
    {
     "data": {
      "image/png": "[encoded data removed]",
      "text/plain": [
       "<Figure size 1000x500 with 1 Axes>"
      ]
     },
     "metadata": {},
     "output_type": "display_data"
    }
   ],
   "source": [
    "plt.figure(figsize=(10, 5))\n",
    "plt.plot(np.arange(200) + 1, errors2, lw=2.5, color='black')\n",
    "plt.ylabel('MAPE')\n",
    "plt.xlabel('n')\n",
    "plt.title('Зависимость ошибки предсказаний от минимального числа объектов в листе')"
   ]
  },
  {
   "cell_type": "markdown",
   "metadata": {},
   "source": [
    "По графику сложно сказать, какое значение является минимальным, поскольку он плохо аппроксимируется простейшими\n",
    "зависимостями. Тем не менее мы возьмем число 50 как величину, после которой наблюдются стабильно низкие значения\n",
    "MAPE."
   ]
  },
  {
   "cell_type": "markdown",
   "metadata": {},
   "source": [
    "Визуализируйте дерево при оптимальных гиперпараметрах и посчитайте его ошибку на тестовой части выборки."
   ]
  },
  {
   "cell_type": "code",
   "execution_count": 55,
   "metadata": {},
   "outputs": [],
   "source": [
    "def get_graphviz_graph(decision_tree_regressor):\n",
    "    decision_tree_regressor.fit(X_train, Y_train)\n",
    "    dot_data = export_graphviz(\n",
    "        decision_tree_regressor, out_file=None, \n",
    "        feature_names=real_features + list(encoder.get_feature_names_out()), class_names='cnt',  \n",
    "        filled=True, rounded=True, special_characters=True\n",
    "    )\n",
    "    return graphviz.Source(dot_data)  "
   ]
  },
  {
   "cell_type": "code",
   "execution_count": 56,
   "metadata": {
    "scrolled": false
   },
   "outputs": [
    {
     "data": {
      "image/svg+xml": [
       "<?xml version=\"1.0\" encoding=\"UTF-8\" standalone=\"no\"?>\n",
       "<!DOCTYPE svg PUBLIC \"-//W3C//DTD SVG 1.1//EN\"\n",
       " \"http://www.w3.org/Graphics/SVG/1.1/DTD/svg11.dtd\">\n",
       "<!-- Generated by graphviz version 7.1.0 (0)\n",
       " -->\n",
       "<!-- Title: Tree Pages: 1 -->\n",
       "<svg width=\"974pt\" height=\"477pt\"\n",
       " viewBox=\"0.00 0.00 974.00 477.00\" xmlns=\"http://www.w3.org/2000/svg\" xmlns:xlink=\"http://www.w3.org/1999/xlink\">\n",
       "<g id=\"graph0\" class=\"graph\" transform=\"scale(1 1) rotate(0) translate(4 473)\">\n",
       "<title>Tree</title>\n",
       "<polygon fill=\"white\" stroke=\"none\" points=\"-4,4 -4,-473 970,-473 970,4 -4,4\"/>\n",
       "<!-- 0 -->\n",
       "<g id=\"node1\" class=\"node\">\n",
       "<title>0</title>\n",
       "<path fill=\"#efb185\" stroke=\"black\" d=\"M585,-469C585,-469 381,-469 381,-469 375,-469 369,-463 369,-457 369,-457 369,-413 369,-413 369,-407 375,-401 381,-401 381,-401 585,-401 585,-401 591,-401 597,-407 597,-413 597,-413 597,-457 597,-457 597,-463 591,-469 585,-469\"/>\n",
       "<text text-anchor=\"start\" x=\"434\" y=\"-453.8\" font-family=\"Helvetica,sans-Serif\" font-size=\"14.00\">temp ≤ 0.432</text>\n",
       "<text text-anchor=\"start\" x=\"377\" y=\"-438.8\" font-family=\"Helvetica,sans-Serif\" font-size=\"14.00\">squared_error = 3594242.647</text>\n",
       "<text text-anchor=\"start\" x=\"430\" y=\"-423.8\" font-family=\"Helvetica,sans-Serif\" font-size=\"14.00\">samples = 413</text>\n",
       "<text text-anchor=\"start\" x=\"419.5\" y=\"-408.8\" font-family=\"Helvetica,sans-Serif\" font-size=\"14.00\">value = 4670.484</text>\n",
       "</g>\n",
       "<!-- 1 -->\n",
       "<g id=\"node2\" class=\"node\">\n",
       "<title>1</title>\n",
       "<path fill=\"#f8ddca\" stroke=\"black\" d=\"M462,-365C462,-365 258,-365 258,-365 252,-365 246,-359 246,-353 246,-353 246,-309 246,-309 246,-303 252,-297 258,-297 258,-297 462,-297 462,-297 468,-297 474,-303 474,-309 474,-309 474,-353 474,-353 474,-359 468,-365 462,-365\"/>\n",
       "<text text-anchor=\"start\" x=\"315.5\" y=\"-349.8\" font-family=\"Helvetica,sans-Serif\" font-size=\"14.00\">temp ≤ 0.28</text>\n",
       "<text text-anchor=\"start\" x=\"254\" y=\"-334.8\" font-family=\"Helvetica,sans-Serif\" font-size=\"14.00\">squared_error = 2323994.055</text>\n",
       "<text text-anchor=\"start\" x=\"307\" y=\"-319.8\" font-family=\"Helvetica,sans-Serif\" font-size=\"14.00\">samples = 158</text>\n",
       "<text text-anchor=\"start\" x=\"296.5\" y=\"-304.8\" font-family=\"Helvetica,sans-Serif\" font-size=\"14.00\">value = 3248.956</text>\n",
       "</g>\n",
       "<!-- 0&#45;&gt;1 -->\n",
       "<g id=\"edge1\" class=\"edge\">\n",
       "<title>0&#45;&gt;1</title>\n",
       "<path fill=\"none\" stroke=\"black\" d=\"M442.73,-400.6C432,-391.71 420.29,-382 409.15,-372.76\"/>\n",
       "<polygon fill=\"black\" stroke=\"black\" points=\"411.46,-370.13 401.53,-366.44 406.99,-375.52 411.46,-370.13\"/>\n",
       "<text text-anchor=\"middle\" x=\"402.69\" y=\"-386.67\" font-family=\"Helvetica,sans-Serif\" font-size=\"14.00\">True</text>\n",
       "</g>\n",
       "<!-- 6 -->\n",
       "<g id=\"node7\" class=\"node\">\n",
       "<title>6</title>\n",
       "<path fill=\"#e9965a\" stroke=\"black\" d=\"M708,-365C708,-365 504,-365 504,-365 498,-365 492,-359 492,-353 492,-353 492,-309 492,-309 492,-303 498,-297 504,-297 504,-297 708,-297 708,-297 714,-297 720,-303 720,-309 720,-309 720,-353 720,-353 720,-359 714,-365 708,-365\"/>\n",
       "<text text-anchor=\"start\" x=\"559\" y=\"-349.8\" font-family=\"Helvetica,sans-Serif\" font-size=\"14.00\">hum ≤ 0.738</text>\n",
       "<text text-anchor=\"start\" x=\"500\" y=\"-334.8\" font-family=\"Helvetica,sans-Serif\" font-size=\"14.00\">squared_error = 2353438.678</text>\n",
       "<text text-anchor=\"start\" x=\"553\" y=\"-319.8\" font-family=\"Helvetica,sans-Serif\" font-size=\"14.00\">samples = 255</text>\n",
       "<text text-anchor=\"start\" x=\"542.5\" y=\"-304.8\" font-family=\"Helvetica,sans-Serif\" font-size=\"14.00\">value = 5551.275</text>\n",
       "</g>\n",
       "<!-- 0&#45;&gt;6 -->\n",
       "<g id=\"edge6\" class=\"edge\">\n",
       "<title>0&#45;&gt;6</title>\n",
       "<path fill=\"none\" stroke=\"black\" d=\"M523.27,-400.6C534,-391.71 545.71,-382 556.85,-372.76\"/>\n",
       "<polygon fill=\"black\" stroke=\"black\" points=\"559.01,-375.52 564.47,-366.44 554.54,-370.13 559.01,-375.52\"/>\n",
       "<text text-anchor=\"middle\" x=\"563.31\" y=\"-386.67\" font-family=\"Helvetica,sans-Serif\" font-size=\"14.00\">False</text>\n",
       "</g>\n",
       "<!-- 2 -->\n",
       "<g id=\"node3\" class=\"node\">\n",
       "<title>2</title>\n",
       "<path fill=\"#ffffff\" stroke=\"black\" d=\"M216,-253.5C216,-253.5 12,-253.5 12,-253.5 6,-253.5 0,-247.5 0,-241.5 0,-241.5 0,-212.5 0,-212.5 0,-206.5 6,-200.5 12,-200.5 12,-200.5 216,-200.5 216,-200.5 222,-200.5 228,-206.5 228,-212.5 228,-212.5 228,-241.5 228,-241.5 228,-247.5 222,-253.5 216,-253.5\"/>\n",
       "<text text-anchor=\"start\" x=\"8\" y=\"-238.3\" font-family=\"Helvetica,sans-Serif\" font-size=\"14.00\">squared_error = 1005563.512</text>\n",
       "<text text-anchor=\"start\" x=\"65.5\" y=\"-223.3\" font-family=\"Helvetica,sans-Serif\" font-size=\"14.00\">samples = 50</text>\n",
       "<text text-anchor=\"start\" x=\"55\" y=\"-208.3\" font-family=\"Helvetica,sans-Serif\" font-size=\"14.00\">value = 2142.74</text>\n",
       "</g>\n",
       "<!-- 1&#45;&gt;2 -->\n",
       "<g id=\"edge2\" class=\"edge\">\n",
       "<title>1&#45;&gt;2</title>\n",
       "<path fill=\"none\" stroke=\"black\" d=\"M279.45,-296.6C249.62,-284.23 216,-270.29 186.89,-258.22\"/>\n",
       "<polygon fill=\"black\" stroke=\"black\" points=\"188.37,-255.05 177.79,-254.45 185.68,-261.51 188.37,-255.05\"/>\n",
       "</g>\n",
       "<!-- 3 -->\n",
       "<g id=\"node4\" class=\"node\">\n",
       "<title>3</title>\n",
       "<path fill=\"#f5cdb1\" stroke=\"black\" d=\"M462,-261C462,-261 258,-261 258,-261 252,-261 246,-255 246,-249 246,-249 246,-205 246,-205 246,-199 252,-193 258,-193 258,-193 462,-193 462,-193 468,-193 474,-199 474,-205 474,-205 474,-249 474,-249 474,-255 468,-261 462,-261\"/>\n",
       "<text text-anchor=\"start\" x=\"296\" y=\"-245.8\" font-family=\"Helvetica,sans-Serif\" font-size=\"14.00\">windspeed ≤ 0.19</text>\n",
       "<text text-anchor=\"start\" x=\"254\" y=\"-230.8\" font-family=\"Helvetica,sans-Serif\" font-size=\"14.00\">squared_error = 2105560.491</text>\n",
       "<text text-anchor=\"start\" x=\"307\" y=\"-215.8\" font-family=\"Helvetica,sans-Serif\" font-size=\"14.00\">samples = 108</text>\n",
       "<text text-anchor=\"start\" x=\"296.5\" y=\"-200.8\" font-family=\"Helvetica,sans-Serif\" font-size=\"14.00\">value = 3761.093</text>\n",
       "</g>\n",
       "<!-- 1&#45;&gt;3 -->\n",
       "<g id=\"edge3\" class=\"edge\">\n",
       "<title>1&#45;&gt;3</title>\n",
       "<path fill=\"none\" stroke=\"black\" d=\"M360,-296.6C360,-289.03 360,-280.87 360,-272.9\"/>\n",
       "<polygon fill=\"black\" stroke=\"black\" points=\"363.5,-272.99 360,-262.99 356.5,-272.99 363.5,-272.99\"/>\n",
       "</g>\n",
       "<!-- 4 -->\n",
       "<g id=\"node5\" class=\"node\">\n",
       "<title>4</title>\n",
       "<path fill=\"#f2c09c\" stroke=\"black\" d=\"M216,-149.5C216,-149.5 12,-149.5 12,-149.5 6,-149.5 0,-143.5 0,-137.5 0,-137.5 0,-108.5 0,-108.5 0,-102.5 6,-96.5 12,-96.5 12,-96.5 216,-96.5 216,-96.5 222,-96.5 228,-102.5 228,-108.5 228,-108.5 228,-137.5 228,-137.5 228,-143.5 222,-149.5 216,-149.5\"/>\n",
       "<text text-anchor=\"start\" x=\"8\" y=\"-134.3\" font-family=\"Helvetica,sans-Serif\" font-size=\"14.00\">squared_error = 1794010.896</text>\n",
       "<text text-anchor=\"start\" x=\"65.5\" y=\"-119.3\" font-family=\"Helvetica,sans-Serif\" font-size=\"14.00\">samples = 53</text>\n",
       "<text text-anchor=\"start\" x=\"55\" y=\"-104.3\" font-family=\"Helvetica,sans-Serif\" font-size=\"14.00\">value = 4200.17</text>\n",
       "</g>\n",
       "<!-- 3&#45;&gt;4 -->\n",
       "<g id=\"edge4\" class=\"edge\">\n",
       "<title>3&#45;&gt;4</title>\n",
       "<path fill=\"none\" stroke=\"black\" d=\"M279.45,-192.6C249.62,-180.23 216,-166.29 186.89,-154.22\"/>\n",
       "<polygon fill=\"black\" stroke=\"black\" points=\"188.37,-151.05 177.79,-150.45 185.68,-157.51 188.37,-151.05\"/>\n",
       "</g>\n",
       "<!-- 5 -->\n",
       "<g id=\"node6\" class=\"node\">\n",
       "<title>5</title>\n",
       "<path fill=\"#f7dac5\" stroke=\"black\" d=\"M462,-149.5C462,-149.5 258,-149.5 258,-149.5 252,-149.5 246,-143.5 246,-137.5 246,-137.5 246,-108.5 246,-108.5 246,-102.5 252,-96.5 258,-96.5 258,-96.5 462,-96.5 462,-96.5 468,-96.5 474,-102.5 474,-108.5 474,-108.5 474,-137.5 474,-137.5 474,-143.5 468,-149.5 462,-149.5\"/>\n",
       "<text text-anchor=\"start\" x=\"254\" y=\"-134.3\" font-family=\"Helvetica,sans-Serif\" font-size=\"14.00\">squared_error = 2040979.981</text>\n",
       "<text text-anchor=\"start\" x=\"311.5\" y=\"-119.3\" font-family=\"Helvetica,sans-Serif\" font-size=\"14.00\">samples = 55</text>\n",
       "<text text-anchor=\"start\" x=\"296.5\" y=\"-104.3\" font-family=\"Helvetica,sans-Serif\" font-size=\"14.00\">value = 3337.982</text>\n",
       "</g>\n",
       "<!-- 3&#45;&gt;5 -->\n",
       "<g id=\"edge5\" class=\"edge\">\n",
       "<title>3&#45;&gt;5</title>\n",
       "<path fill=\"none\" stroke=\"black\" d=\"M360,-192.6C360,-182.47 360,-171.28 360,-160.93\"/>\n",
       "<polygon fill=\"black\" stroke=\"black\" points=\"363.5,-161.22 360,-151.22 356.5,-161.22 363.5,-161.22\"/>\n",
       "</g>\n",
       "<!-- 7 -->\n",
       "<g id=\"node8\" class=\"node\">\n",
       "<title>7</title>\n",
       "<path fill=\"#e78b49\" stroke=\"black\" d=\"M703.5,-261C703.5,-261 508.5,-261 508.5,-261 502.5,-261 496.5,-255 496.5,-249 496.5,-249 496.5,-205 496.5,-205 496.5,-199 502.5,-193 508.5,-193 508.5,-193 703.5,-193 703.5,-193 709.5,-193 715.5,-199 715.5,-205 715.5,-205 715.5,-249 715.5,-249 715.5,-255 709.5,-261 703.5,-261\"/>\n",
       "<text text-anchor=\"start\" x=\"537.5\" y=\"-245.8\" font-family=\"Helvetica,sans-Serif\" font-size=\"14.00\">windspeed ≤ 0.198</text>\n",
       "<text text-anchor=\"start\" x=\"504.5\" y=\"-230.8\" font-family=\"Helvetica,sans-Serif\" font-size=\"14.00\">squared_error = 1921127.59</text>\n",
       "<text text-anchor=\"start\" x=\"553\" y=\"-215.8\" font-family=\"Helvetica,sans-Serif\" font-size=\"14.00\">samples = 192</text>\n",
       "<text text-anchor=\"start\" x=\"542.5\" y=\"-200.8\" font-family=\"Helvetica,sans-Serif\" font-size=\"14.00\">value = 5908.859</text>\n",
       "</g>\n",
       "<!-- 6&#45;&gt;7 -->\n",
       "<g id=\"edge7\" class=\"edge\">\n",
       "<title>6&#45;&gt;7</title>\n",
       "<path fill=\"none\" stroke=\"black\" d=\"M606,-296.6C606,-289.03 606,-280.87 606,-272.9\"/>\n",
       "<polygon fill=\"black\" stroke=\"black\" points=\"609.5,-272.99 606,-262.99 602.5,-272.99 609.5,-272.99\"/>\n",
       "</g>\n",
       "<!-- 12 -->\n",
       "<g id=\"node13\" class=\"node\">\n",
       "<title>12</title>\n",
       "<path fill=\"#f0b88f\" stroke=\"black\" d=\"M950,-253.5C950,-253.5 746,-253.5 746,-253.5 740,-253.5 734,-247.5 734,-241.5 734,-241.5 734,-212.5 734,-212.5 734,-206.5 740,-200.5 746,-200.5 746,-200.5 950,-200.5 950,-200.5 956,-200.5 962,-206.5 962,-212.5 962,-212.5 962,-241.5 962,-241.5 962,-247.5 956,-253.5 950,-253.5\"/>\n",
       "<text text-anchor=\"start\" x=\"742\" y=\"-238.3\" font-family=\"Helvetica,sans-Serif\" font-size=\"14.00\">squared_error = 2093642.694</text>\n",
       "<text text-anchor=\"start\" x=\"799.5\" y=\"-223.3\" font-family=\"Helvetica,sans-Serif\" font-size=\"14.00\">samples = 63</text>\n",
       "<text text-anchor=\"start\" x=\"784.5\" y=\"-208.3\" font-family=\"Helvetica,sans-Serif\" font-size=\"14.00\">value = 4461.492</text>\n",
       "</g>\n",
       "<!-- 6&#45;&gt;12 -->\n",
       "<g id=\"edge12\" class=\"edge\">\n",
       "<title>6&#45;&gt;12</title>\n",
       "<path fill=\"none\" stroke=\"black\" d=\"M685.24,-296.6C714.58,-284.23 747.66,-270.29 776.29,-258.22\"/>\n",
       "<polygon fill=\"black\" stroke=\"black\" points=\"777.37,-261.57 785.23,-254.46 774.66,-255.12 777.37,-261.57\"/>\n",
       "</g>\n",
       "<!-- 8 -->\n",
       "<g id=\"node9\" class=\"node\">\n",
       "<title>8</title>\n",
       "<path fill=\"#e68742\" stroke=\"black\" d=\"M708,-157C708,-157 504,-157 504,-157 498,-157 492,-151 492,-145 492,-145 492,-101 492,-101 492,-95 498,-89 504,-89 504,-89 708,-89 708,-89 714,-89 720,-95 720,-101 720,-101 720,-145 720,-145 720,-151 714,-157 708,-157\"/>\n",
       "<text text-anchor=\"start\" x=\"559\" y=\"-141.8\" font-family=\"Helvetica,sans-Serif\" font-size=\"14.00\">hum ≤ 0.631</text>\n",
       "<text text-anchor=\"start\" x=\"500\" y=\"-126.8\" font-family=\"Helvetica,sans-Serif\" font-size=\"14.00\">squared_error = 1777495.173</text>\n",
       "<text text-anchor=\"start\" x=\"553\" y=\"-111.8\" font-family=\"Helvetica,sans-Serif\" font-size=\"14.00\">samples = 131</text>\n",
       "<text text-anchor=\"start\" x=\"542.5\" y=\"-96.8\" font-family=\"Helvetica,sans-Serif\" font-size=\"14.00\">value = 6061.183</text>\n",
       "</g>\n",
       "<!-- 7&#45;&gt;8 -->\n",
       "<g id=\"edge8\" class=\"edge\">\n",
       "<title>7&#45;&gt;8</title>\n",
       "<path fill=\"none\" stroke=\"black\" d=\"M606,-192.6C606,-185.03 606,-176.87 606,-168.9\"/>\n",
       "<polygon fill=\"black\" stroke=\"black\" points=\"609.5,-168.99 606,-158.99 602.5,-168.99 609.5,-168.99\"/>\n",
       "</g>\n",
       "<!-- 11 -->\n",
       "<g id=\"node12\" class=\"node\">\n",
       "<title>11</title>\n",
       "<path fill=\"#e99559\" stroke=\"black\" d=\"M954,-149.5C954,-149.5 750,-149.5 750,-149.5 744,-149.5 738,-143.5 738,-137.5 738,-137.5 738,-108.5 738,-108.5 738,-102.5 744,-96.5 750,-96.5 750,-96.5 954,-96.5 954,-96.5 960,-96.5 966,-102.5 966,-108.5 966,-108.5 966,-137.5 966,-137.5 966,-143.5 960,-149.5 954,-149.5\"/>\n",
       "<text text-anchor=\"start\" x=\"746\" y=\"-134.3\" font-family=\"Helvetica,sans-Serif\" font-size=\"14.00\">squared_error = 2072747.079</text>\n",
       "<text text-anchor=\"start\" x=\"803.5\" y=\"-119.3\" font-family=\"Helvetica,sans-Serif\" font-size=\"14.00\">samples = 61</text>\n",
       "<text text-anchor=\"start\" x=\"788.5\" y=\"-104.3\" font-family=\"Helvetica,sans-Serif\" font-size=\"14.00\">value = 5581.738</text>\n",
       "</g>\n",
       "<!-- 7&#45;&gt;11 -->\n",
       "<g id=\"edge11\" class=\"edge\">\n",
       "<title>7&#45;&gt;11</title>\n",
       "<path fill=\"none\" stroke=\"black\" d=\"M686.55,-192.6C716.38,-180.23 750,-166.29 779.11,-154.22\"/>\n",
       "<polygon fill=\"black\" stroke=\"black\" points=\"780.32,-157.51 788.21,-150.45 777.63,-151.05 780.32,-157.51\"/>\n",
       "</g>\n",
       "<!-- 9 -->\n",
       "<g id=\"node10\" class=\"node\">\n",
       "<title>9</title>\n",
       "<path fill=\"#e58139\" stroke=\"black\" d=\"M585,-53C585,-53 381,-53 381,-53 375,-53 369,-47 369,-41 369,-41 369,-12 369,-12 369,-6 375,0 381,0 381,0 585,0 585,0 591,0 597,-6 597,-12 597,-12 597,-41 597,-41 597,-47 591,-53 585,-53\"/>\n",
       "<text text-anchor=\"start\" x=\"377\" y=\"-37.8\" font-family=\"Helvetica,sans-Serif\" font-size=\"14.00\">squared_error = 1708212.854</text>\n",
       "<text text-anchor=\"start\" x=\"434.5\" y=\"-22.8\" font-family=\"Helvetica,sans-Serif\" font-size=\"14.00\">samples = 72</text>\n",
       "<text text-anchor=\"start\" x=\"419.5\" y=\"-7.8\" font-family=\"Helvetica,sans-Serif\" font-size=\"14.00\">value = 6241.583</text>\n",
       "</g>\n",
       "<!-- 8&#45;&gt;9 -->\n",
       "<g id=\"edge9\" class=\"edge\">\n",
       "<title>8&#45;&gt;9</title>\n",
       "<path fill=\"none\" stroke=\"black\" d=\"M562.63,-88.68C550.62,-79.45 537.59,-69.44 525.62,-60.24\"/>\n",
       "<polygon fill=\"black\" stroke=\"black\" points=\"527.97,-57.63 517.9,-54.32 523.7,-63.18 527.97,-57.63\"/>\n",
       "</g>\n",
       "<!-- 10 -->\n",
       "<g id=\"node11\" class=\"node\">\n",
       "<title>10</title>\n",
       "<path fill=\"#e88d4c\" stroke=\"black\" d=\"M831,-53C831,-53 627,-53 627,-53 621,-53 615,-47 615,-41 615,-41 615,-12 615,-12 615,-6 621,0 627,0 627,0 831,0 831,0 837,0 843,-6 843,-12 843,-12 843,-41 843,-41 843,-47 837,-53 831,-53\"/>\n",
       "<text text-anchor=\"start\" x=\"623\" y=\"-37.8\" font-family=\"Helvetica,sans-Serif\" font-size=\"14.00\">squared_error = 1773862.406</text>\n",
       "<text text-anchor=\"start\" x=\"680.5\" y=\"-22.8\" font-family=\"Helvetica,sans-Serif\" font-size=\"14.00\">samples = 59</text>\n",
       "<text text-anchor=\"start\" x=\"665.5\" y=\"-7.8\" font-family=\"Helvetica,sans-Serif\" font-size=\"14.00\">value = 5841.034</text>\n",
       "</g>\n",
       "<!-- 8&#45;&gt;10 -->\n",
       "<g id=\"edge10\" class=\"edge\">\n",
       "<title>8&#45;&gt;10</title>\n",
       "<path fill=\"none\" stroke=\"black\" d=\"M649.37,-88.68C661.38,-79.45 674.41,-69.44 686.38,-60.24\"/>\n",
       "<polygon fill=\"black\" stroke=\"black\" points=\"688.3,-63.18 694.1,-54.32 684.03,-57.63 688.3,-63.18\"/>\n",
       "</g>\n",
       "</g>\n",
       "</svg>\n"
      ],
      "text/plain": [
       "<graphviz.sources.Source at 0x7f186bcc4370>"
      ]
     },
     "execution_count": 56,
     "metadata": {},
     "output_type": "execute_result"
    }
   ],
   "source": [
    "clf = DecisionTreeRegressor(max_depth=27, min_samples_leaf=50)\n",
    "graph = get_graphviz_graph(clf)\n",
    "graph"
   ]
  },
  {
   "cell_type": "code",
   "execution_count": 57,
   "metadata": {},
   "outputs": [],
   "source": [
    "prediction = clf.predict(X_test)"
   ]
  },
  {
   "cell_type": "code",
   "execution_count": 58,
   "metadata": {},
   "outputs": [
    {
     "data": {
      "text/plain": [
       "0.2660692686022996"
      ]
     },
     "execution_count": 58,
     "metadata": {},
     "output_type": "execute_result"
    }
   ],
   "source": [
    "MAPE = metrics.mean_absolute_percentage_error(prediction, Y_test)\n",
    "MAPE"
   ]
  },
  {
   "cell_type": "markdown",
   "metadata": {},
   "source": [
    "Как мы видим точность получилась сопоставимая с методом линейной регрессии из прошлого задания."
   ]
  },
  {
   "cell_type": "markdown",
   "metadata": {},
   "source": [
    "Решающее дерево позволяет оценить *важность признаков* &mdash; некоторая величина, зависящая от того\n",
    "* насколько часто тот или иной признак использовался при разбиении листа, \n",
    "* и насколько сильно при этом изменился критерий информативности.\n",
    "\n",
    "У обученной модели значения важности признаков лежат в поле `feature_importances_`. Визуализируйте их с помощью `seaborn.barplot`."
   ]
  },
  {
   "cell_type": "code",
   "execution_count": 59,
   "metadata": {
    "scrolled": true
   },
   "outputs": [
    {
     "data": {
      "text/html": [
       "<div>\n",
       "<style scoped>\n",
       "    .dataframe tbody tr th:only-of-type {\n",
       "        vertical-align: middle;\n",
       "    }\n",
       "\n",
       "    .dataframe tbody tr th {\n",
       "        vertical-align: top;\n",
       "    }\n",
       "\n",
       "    .dataframe thead th {\n",
       "        text-align: right;\n",
       "    }\n",
       "</style>\n",
       "<table border=\"1\" class=\"dataframe\">\n",
       "  <thead>\n",
       "    <tr style=\"text-align: right;\">\n",
       "      <th></th>\n",
       "      <th>temp</th>\n",
       "      <th>hum</th>\n",
       "      <th>windspeed</th>\n",
       "      <th>mnth_1</th>\n",
       "      <th>mnth_2</th>\n",
       "      <th>mnth_3</th>\n",
       "      <th>mnth_4</th>\n",
       "      <th>mnth_5</th>\n",
       "      <th>mnth_6</th>\n",
       "      <th>mnth_7</th>\n",
       "      <th>...</th>\n",
       "      <th>weekday_3</th>\n",
       "      <th>weekday_4</th>\n",
       "      <th>weekday_5</th>\n",
       "      <th>weekday_6</th>\n",
       "      <th>weekday_7</th>\n",
       "      <th>workingday_1</th>\n",
       "      <th>workingday_2</th>\n",
       "      <th>weathersit_1</th>\n",
       "      <th>weathersit_2</th>\n",
       "      <th>weathersit_3</th>\n",
       "    </tr>\n",
       "  </thead>\n",
       "  <tbody>\n",
       "    <tr>\n",
       "      <th>0</th>\n",
       "      <td>0.818843</td>\n",
       "      <td>0.141159</td>\n",
       "      <td>0.039998</td>\n",
       "      <td>0.0</td>\n",
       "      <td>0.0</td>\n",
       "      <td>0.0</td>\n",
       "      <td>0.0</td>\n",
       "      <td>0.0</td>\n",
       "      <td>0.0</td>\n",
       "      <td>0.0</td>\n",
       "      <td>...</td>\n",
       "      <td>0.0</td>\n",
       "      <td>0.0</td>\n",
       "      <td>0.0</td>\n",
       "      <td>0.0</td>\n",
       "      <td>0.0</td>\n",
       "      <td>0.0</td>\n",
       "      <td>0.0</td>\n",
       "      <td>0.0</td>\n",
       "      <td>0.0</td>\n",
       "      <td>0.0</td>\n",
       "    </tr>\n",
       "  </tbody>\n",
       "</table>\n",
       "<p>1 rows × 29 columns</p>\n",
       "</div>"
      ],
      "text/plain": [
       "       temp       hum  windspeed  mnth_1  mnth_2  mnth_3  mnth_4  mnth_5  \\\n",
       "0  0.818843  0.141159   0.039998     0.0     0.0     0.0     0.0     0.0   \n",
       "\n",
       "   mnth_6  mnth_7  ...  weekday_3  weekday_4  weekday_5  weekday_6  weekday_7  \\\n",
       "0     0.0     0.0  ...        0.0        0.0        0.0        0.0        0.0   \n",
       "\n",
       "   workingday_1  workingday_2  weathersit_1  weathersit_2  weathersit_3  \n",
       "0           0.0           0.0           0.0           0.0           0.0  \n",
       "\n",
       "[1 rows x 29 columns]"
      ]
     },
     "execution_count": 59,
     "metadata": {},
     "output_type": "execute_result"
    }
   ],
   "source": [
    "importance = pd.DataFrame(clf.feature_importances_.reshape(1, X_train.shape[1]))\n",
    "cols = dict(zip(importance.columns, real_features + list(encoder.get_feature_names_out())))\n",
    "importance = importance.rename(cols, axis='columns')\n",
    "importance"
   ]
  },
  {
   "cell_type": "markdown",
   "metadata": {},
   "source": [
    "Так как мы видим, что категориальные признаки имеют 0 важность в нашем дереве, можем оставить для barplot только вещественные."
   ]
  },
  {
   "cell_type": "code",
   "execution_count": 60,
   "metadata": {},
   "outputs": [],
   "source": [
    "importance = importance[real_features]"
   ]
  },
  {
   "cell_type": "code",
   "execution_count": 61,
   "metadata": {},
   "outputs": [
    {
     "data": {
      "text/plain": [
       "Text(0.5, 1.0, 'Важность признаков')"
      ]
     },
     "execution_count": 61,
     "metadata": {},
     "output_type": "execute_result"
    },
    {
     "data": {
      "image/png": "[encoded data removed]",
      "text/plain": [
       "<Figure size 1000x500 with 1 Axes>"
      ]
     },
     "metadata": {},
     "output_type": "display_data"
    }
   ],
   "source": [
    "plt.figure(figsize=(10, 5))\n",
    "sns.barplot(importance, width=0.95, palette='deep')\n",
    "plt.xlabel('features')\n",
    "plt.ylabel('importance')\n",
    "plt.title('Важность признаков')"
   ]
  },
  {
   "cell_type": "markdown",
   "metadata": {},
   "source": [
    "Мы нашли оптимальные гиперпараметры для разрешающего дерева, построили его и посчитали предсказание с его ошибкой.\n",
    "Ошибка MAPE чуть меньше $30\\%$ является неплохим результатом для такого простого метода, но точность можно еще повысить создавая большее количество деревьев. Также мы получили что наибольшее (с большим отрывом) влияние на \n",
    "количество людей, взявших велосипед напрокат, оказывает температура воздуха."
   ]
  },
  {
   "cell_type": "markdown",
   "metadata": {},
   "source": [
    "---\n",
    "### Задача 3.\n",
    "\n",
    "Для данных из предыдущей части обучите случайный лес на 500 деревьев."
   ]
  },
  {
   "cell_type": "code",
   "execution_count": 62,
   "metadata": {},
   "outputs": [
    {
     "data": {
      "text/html": [
       "<style>#sk-container-id-4 {color: black;background-color: white;}#sk-container-id-4 pre{padding: 0;}#sk-container-id-4 div.sk-toggleable {background-color: white;}#sk-container-id-4 label.sk-toggleable__label {cursor: pointer;display: block;width: 100%;margin-bottom: 0;padding: 0.3em;box-sizing: border-box;text-align: center;}#sk-container-id-4 label.sk-toggleable__label-arrow:before {content: \"▸\";float: left;margin-right: 0.25em;color: #696969;}#sk-container-id-4 label.sk-toggleable__label-arrow:hover:before {color: black;}#sk-container-id-4 div.sk-estimator:hover label.sk-toggleable__label-arrow:before {color: black;}#sk-container-id-4 div.sk-toggleable__content {max-height: 0;max-width: 0;overflow: hidden;text-align: left;background-color: #f0f8ff;}#sk-container-id-4 div.sk-toggleable__content pre {margin: 0.2em;color: black;border-radius: 0.25em;background-color: #f0f8ff;}#sk-container-id-4 input.sk-toggleable__control:checked~div.sk-toggleable__content {max-height: 200px;max-width: 100%;overflow: auto;}#sk-container-id-4 input.sk-toggleable__control:checked~label.sk-toggleable__label-arrow:before {content: \"▾\";}#sk-container-id-4 div.sk-estimator input.sk-toggleable__control:checked~label.sk-toggleable__label {background-color: #d4ebff;}#sk-container-id-4 div.sk-label input.sk-toggleable__control:checked~label.sk-toggleable__label {background-color: #d4ebff;}#sk-container-id-4 input.sk-hidden--visually {border: 0;clip: rect(1px 1px 1px 1px);clip: rect(1px, 1px, 1px, 1px);height: 1px;margin: -1px;overflow: hidden;padding: 0;position: absolute;width: 1px;}#sk-container-id-4 div.sk-estimator {font-family: monospace;background-color: #f0f8ff;border: 1px dotted black;border-radius: 0.25em;box-sizing: border-box;margin-bottom: 0.5em;}#sk-container-id-4 div.sk-estimator:hover {background-color: #d4ebff;}#sk-container-id-4 div.sk-parallel-item::after {content: \"\";width: 100%;border-bottom: 1px solid gray;flex-grow: 1;}#sk-container-id-4 div.sk-label:hover label.sk-toggleable__label {background-color: #d4ebff;}#sk-container-id-4 div.sk-serial::before {content: \"\";position: absolute;border-left: 1px solid gray;box-sizing: border-box;top: 0;bottom: 0;left: 50%;z-index: 0;}#sk-container-id-4 div.sk-serial {display: flex;flex-direction: column;align-items: center;background-color: white;padding-right: 0.2em;padding-left: 0.2em;position: relative;}#sk-container-id-4 div.sk-item {position: relative;z-index: 1;}#sk-container-id-4 div.sk-parallel {display: flex;align-items: stretch;justify-content: center;background-color: white;position: relative;}#sk-container-id-4 div.sk-item::before, #sk-container-id-4 div.sk-parallel-item::before {content: \"\";position: absolute;border-left: 1px solid gray;box-sizing: border-box;top: 0;bottom: 0;left: 50%;z-index: -1;}#sk-container-id-4 div.sk-parallel-item {display: flex;flex-direction: column;z-index: 1;position: relative;background-color: white;}#sk-container-id-4 div.sk-parallel-item:first-child::after {align-self: flex-end;width: 50%;}#sk-container-id-4 div.sk-parallel-item:last-child::after {align-self: flex-start;width: 50%;}#sk-container-id-4 div.sk-parallel-item:only-child::after {width: 0;}#sk-container-id-4 div.sk-dashed-wrapped {border: 1px dashed gray;margin: 0 0.4em 0.5em 0.4em;box-sizing: border-box;padding-bottom: 0.4em;background-color: white;}#sk-container-id-4 div.sk-label label {font-family: monospace;font-weight: bold;display: inline-block;line-height: 1.2em;}#sk-container-id-4 div.sk-label-container {text-align: center;}#sk-container-id-4 div.sk-container {/* jupyter's `normalize.less` sets `[hidden] { display: none; }` but bootstrap.min.css set `[hidden] { display: none !important; }` so we also need the `!important` here to be able to override the default hidden behavior on the sphinx rendered scikit-learn.org. See: https://github.com/scikit-learn/scikit-learn/issues/21755 */display: inline-block !important;position: relative;}#sk-container-id-4 div.sk-text-repr-fallback {display: none;}</style><div id=\"sk-container-id-4\" class=\"sk-top-container\"><div class=\"sk-text-repr-fallback\"><pre>RandomForestRegressor(n_estimators=500)</pre><b>In a Jupyter environment, please rerun this cell to show the HTML representation or trust the notebook. <br />On GitHub, the HTML representation is unable to render, please try loading this page with nbviewer.org.</b></div><div class=\"sk-container\" hidden><div class=\"sk-item\"><div class=\"sk-estimator sk-toggleable\"><input class=\"sk-toggleable__control sk-hidden--visually\" id=\"sk-estimator-id-4\" type=\"checkbox\" checked><label for=\"sk-estimator-id-4\" class=\"sk-toggleable__label sk-toggleable__label-arrow\">RandomForestRegressor</label><div class=\"sk-toggleable__content\"><pre>RandomForestRegressor(n_estimators=500)</pre></div></div></div></div></div>"
      ],
      "text/plain": [
       "RandomForestRegressor(n_estimators=500)"
      ]
     },
     "execution_count": 62,
     "metadata": {},
     "output_type": "execute_result"
    }
   ],
   "source": [
    "n_estimators = 500\n",
    "model = RandomForestRegressor(n_estimators=n_estimators)\n",
    "model.fit(X_train, Y_train)"
   ]
  },
  {
   "cell_type": "markdown",
   "metadata": {},
   "source": [
    "Постройте график зависимости ошибки модели в зависимости от количества деревьев для обучающей и валидационной выборок.\n",
    "\n",
    "*Замечание.* Не нужно заново обучать лес каждый раз. Используйте у *обученной* модели поле `estimators_`, это список из объектов класса `DecisionTreeRegressor`. Обратите внимание, что это приватное поле объекта, и менять его очень плохо, за такое баллы будут снижаться."
   ]
  },
  {
   "cell_type": "code",
   "execution_count": 63,
   "metadata": {},
   "outputs": [],
   "source": [
    "predict_mean = np.zeros(Y_valid.shape[0])\n",
    "valid_predict_mape = list()\n",
    "\n",
    "for i in range(n_estimators):\n",
    "    predict_mean = (predict_mean * i + model.estimators_[i].predict(X_valid)) / (i + 1)\n",
    "    valid_predict_mape.append(metrics.mean_absolute_percentage_error(predict_mean, Y_valid))"
   ]
  },
  {
   "cell_type": "code",
   "execution_count": 64,
   "metadata": {},
   "outputs": [],
   "source": [
    "predict_mean = np.zeros(Y_train.shape[0])\n",
    "train_predict_mape = list()\n",
    "\n",
    "for i in range(n_estimators):\n",
    "    predict_mean = (predict_mean * i + model.estimators_[i].predict(X_train)) / (i + 1)\n",
    "    train_predict_mape.append(metrics.mean_absolute_percentage_error(predict_mean, Y_train))"
   ]
  },
  {
   "cell_type": "code",
   "execution_count": 65,
   "metadata": {},
   "outputs": [
    {
     "data": {
      "text/plain": [
       "<matplotlib.legend.Legend at 0x7f186b56c820>"
      ]
     },
     "execution_count": 65,
     "metadata": {},
     "output_type": "execute_result"
    },
    {
     "data": {
      "image/png": "[encoded data removed]",
      "text/plain": [
       "<Figure size 1000x500 with 1 Axes>"
      ]
     },
     "metadata": {},
     "output_type": "display_data"
    }
   ],
   "source": [
    "plt.figure(figsize=(10, 5))\n",
    "plt.plot(np.arange(500), valid_predict_mape, lw=2.5, label='valid', color='red')\n",
    "plt.plot(np.arange(500), train_predict_mape, lw=2.5, label='train', color='black')\n",
    "plt.xlabel('number of trees')\n",
    "plt.ylabel('MAPE')\n",
    "plt.title('Точность предсказания леса в зависимости от количества деревьев')\n",
    "plt.legend()"
   ]
  },
  {
   "cell_type": "markdown",
   "metadata": {},
   "source": [
    "По графику сразу видно, что увеличение количества деревьев повышает точность предсказания при малом их количестве, также после 100 деревьев ошибка почти не изменяется. Более явно прослеживается эффект переобучения, потому как на тренировочных данных ошибка значительно меньше чем на валидационных."
   ]
  },
  {
   "cell_type": "markdown",
   "metadata": {},
   "source": [
    "Для леса с максимальным количеством деревьев визуализируйте\n",
    "важность признаков, используя поле `feature_importances_`. "
   ]
  },
  {
   "cell_type": "code",
   "execution_count": 66,
   "metadata": {},
   "outputs": [
    {
     "data": {
      "text/html": [
       "<div>\n",
       "<style scoped>\n",
       "    .dataframe tbody tr th:only-of-type {\n",
       "        vertical-align: middle;\n",
       "    }\n",
       "\n",
       "    .dataframe tbody tr th {\n",
       "        vertical-align: top;\n",
       "    }\n",
       "\n",
       "    .dataframe thead th {\n",
       "        text-align: right;\n",
       "    }\n",
       "</style>\n",
       "<table border=\"1\" class=\"dataframe\">\n",
       "  <thead>\n",
       "    <tr style=\"text-align: right;\">\n",
       "      <th></th>\n",
       "      <th>temp</th>\n",
       "      <th>hum</th>\n",
       "      <th>windspeed</th>\n",
       "      <th>mnth_1</th>\n",
       "      <th>mnth_2</th>\n",
       "      <th>mnth_3</th>\n",
       "      <th>mnth_4</th>\n",
       "      <th>mnth_5</th>\n",
       "      <th>mnth_6</th>\n",
       "      <th>mnth_7</th>\n",
       "      <th>...</th>\n",
       "      <th>weekday_3</th>\n",
       "      <th>weekday_4</th>\n",
       "      <th>weekday_5</th>\n",
       "      <th>weekday_6</th>\n",
       "      <th>weekday_7</th>\n",
       "      <th>workingday_1</th>\n",
       "      <th>workingday_2</th>\n",
       "      <th>weathersit_1</th>\n",
       "      <th>weathersit_2</th>\n",
       "      <th>weathersit_3</th>\n",
       "    </tr>\n",
       "  </thead>\n",
       "  <tbody>\n",
       "    <tr>\n",
       "      <th>0</th>\n",
       "      <td>0.533997</td>\n",
       "      <td>0.17032</td>\n",
       "      <td>0.113939</td>\n",
       "      <td>0.002787</td>\n",
       "      <td>0.002495</td>\n",
       "      <td>0.00765</td>\n",
       "      <td>0.00706</td>\n",
       "      <td>0.003557</td>\n",
       "      <td>0.004745</td>\n",
       "      <td>0.002643</td>\n",
       "      <td>...</td>\n",
       "      <td>0.005809</td>\n",
       "      <td>0.005861</td>\n",
       "      <td>0.008427</td>\n",
       "      <td>0.008082</td>\n",
       "      <td>0.009233</td>\n",
       "      <td>0.006058</td>\n",
       "      <td>0.005781</td>\n",
       "      <td>0.022278</td>\n",
       "      <td>0.005206</td>\n",
       "      <td>0.008026</td>\n",
       "    </tr>\n",
       "  </tbody>\n",
       "</table>\n",
       "<p>1 rows × 29 columns</p>\n",
       "</div>"
      ],
      "text/plain": [
       "       temp      hum  windspeed    mnth_1    mnth_2   mnth_3   mnth_4  \\\n",
       "0  0.533997  0.17032   0.113939  0.002787  0.002495  0.00765  0.00706   \n",
       "\n",
       "     mnth_5    mnth_6    mnth_7  ...  weekday_3  weekday_4  weekday_5  \\\n",
       "0  0.003557  0.004745  0.002643  ...   0.005809   0.005861   0.008427   \n",
       "\n",
       "   weekday_6  weekday_7  workingday_1  workingday_2  weathersit_1  \\\n",
       "0   0.008082   0.009233      0.006058      0.005781      0.022278   \n",
       "\n",
       "   weathersit_2  weathersit_3  \n",
       "0      0.005206      0.008026  \n",
       "\n",
       "[1 rows x 29 columns]"
      ]
     },
     "execution_count": 66,
     "metadata": {},
     "output_type": "execute_result"
    }
   ],
   "source": [
    "importance = pd.DataFrame(model.feature_importances_.reshape(1, X_train.shape[1])).rename(cols, axis='columns')\n",
    "importance\n"
   ]
  },
  {
   "cell_type": "code",
   "execution_count": 67,
   "metadata": {},
   "outputs": [
    {
     "data": {
      "text/html": [
       "<div>\n",
       "<style scoped>\n",
       "    .dataframe tbody tr th:only-of-type {\n",
       "        vertical-align: middle;\n",
       "    }\n",
       "\n",
       "    .dataframe tbody tr th {\n",
       "        vertical-align: top;\n",
       "    }\n",
       "\n",
       "    .dataframe thead th {\n",
       "        text-align: right;\n",
       "    }\n",
       "</style>\n",
       "<table border=\"1\" class=\"dataframe\">\n",
       "  <thead>\n",
       "    <tr style=\"text-align: right;\">\n",
       "      <th></th>\n",
       "      <th>temp</th>\n",
       "      <th>hum</th>\n",
       "      <th>windspeed</th>\n",
       "      <th>mnth_9</th>\n",
       "      <th>mnth_11</th>\n",
       "      <th>weathersit_1</th>\n",
       "    </tr>\n",
       "  </thead>\n",
       "  <tbody>\n",
       "    <tr>\n",
       "      <th>0</th>\n",
       "      <td>0.533997</td>\n",
       "      <td>0.17032</td>\n",
       "      <td>0.113939</td>\n",
       "      <td>0.014004</td>\n",
       "      <td>0.018888</td>\n",
       "      <td>0.022278</td>\n",
       "    </tr>\n",
       "  </tbody>\n",
       "</table>\n",
       "</div>"
      ],
      "text/plain": [
       "       temp      hum  windspeed    mnth_9   mnth_11  weathersit_1\n",
       "0  0.533997  0.17032   0.113939  0.014004  0.018888      0.022278"
      ]
     },
     "execution_count": 67,
     "metadata": {},
     "output_type": "execute_result"
    }
   ],
   "source": [
    "importance = importance.T\n",
    "importance = importance[importance[0] > 0.01].T\n",
    "importance"
   ]
  },
  {
   "cell_type": "code",
   "execution_count": 68,
   "metadata": {},
   "outputs": [
    {
     "data": {
      "text/plain": [
       "Text(0.5, 1.0, 'Важность признаков')"
      ]
     },
     "execution_count": 68,
     "metadata": {},
     "output_type": "execute_result"
    },
    {
     "data": {
      "image/png": "[encoded data removed]",
      "text/plain": [
       "<Figure size 1500x500 with 1 Axes>"
      ]
     },
     "metadata": {},
     "output_type": "display_data"
    }
   ],
   "source": [
    "plt.figure(figsize=(15, 5))\n",
    "sns.barplot(importance, width=0.95, palette='deep')\n",
    "plt.xlabel('features')\n",
    "plt.ylabel('importance')\n",
    "plt.title('Важность признаков')"
   ]
  },
  {
   "cell_type": "markdown",
   "metadata": {},
   "source": [
    "При большом количестве деревьев важность остальных признаков несколько повысилась, но температура воздуха по прежнему превалирует."
   ]
  },
  {
   "cell_type": "code",
   "execution_count": 69,
   "metadata": {},
   "outputs": [
    {
     "data": {
      "text/plain": [
       "array([6482.78 , 5989.904, 2378.9  , 3907.45 , 3332.594, 2390.226,\n",
       "       4283.01 , 3564.644, 1837.432, 4033.092, 3686.942, 4613.102,\n",
       "       4452.964, 5261.276, 5836.598, 3722.204, 4249.324, 1924.364,\n",
       "       5254.446, 4304.312, 3326.278, 1945.886, 6645.064, 1664.336,\n",
       "       5640.58 , 2798.844, 2879.844, 6252.848, 4873.424, 6250.164,\n",
       "       3296.984, 4037.142, 4493.976, 5512.226, 5741.614, 5836.536,\n",
       "       3252.512, 6350.68 , 6607.61 , 4260.014, 4367.912, 6498.47 ,\n",
       "       6859.364, 6037.598, 2750.34 , 4758.482, 5177.93 , 1810.624,\n",
       "       2837.874, 1880.816, 5273.898, 5151.844, 6936.48 , 2986.46 ,\n",
       "       5855.914, 4957.356, 1743.692, 6187.702, 5606.998, 5446.246,\n",
       "       5694.562, 4060.89 , 4390.556, 4281.072, 2828.344, 6814.18 ,\n",
       "       5608.774, 6160.26 , 2650.532, 5720.158, 5621.374, 3503.104,\n",
       "       5284.402, 5658.784, 5954.174, 6453.714, 4611.934, 2600.482,\n",
       "       3178.332, 6759.56 , 5123.536, 5912.208, 3365.682, 5360.98 ,\n",
       "       7150.522, 2144.242, 5505.608, 2729.586, 7096.324, 5387.318,\n",
       "       4013.572, 5467.07 , 1523.576, 1823.524, 6121.578, 6337.41 ,\n",
       "       7615.77 , 2404.748, 1715.972, 1527.71 , 2924.866, 5768.272,\n",
       "       5987.688, 5635.214, 6981.462, 6566.308, 6648.908, 6043.47 ,\n",
       "       4311.76 , 2971.742, 5467.952, 4366.962, 1696.95 , 5781.288,\n",
       "       6681.138, 3083.474, 3563.716, 2282.172, 3285.2  , 4117.228,\n",
       "       5686.328, 5042.218, 2479.97 , 6231.944])"
      ]
     },
     "execution_count": 69,
     "metadata": {},
     "output_type": "execute_result"
    }
   ],
   "source": [
    "prediction = model.predict(X_test)\n",
    "prediction"
   ]
  },
  {
   "cell_type": "code",
   "execution_count": 70,
   "metadata": {},
   "outputs": [
    {
     "data": {
      "text/plain": [
       "0.2360151500451355"
      ]
     },
     "execution_count": 70,
     "metadata": {},
     "output_type": "execute_result"
    }
   ],
   "source": [
    "MAPE = metrics.mean_absolute_percentage_error(prediction, Y_test)\n",
    "MAPE"
   ]
  },
  {
   "cell_type": "markdown",
   "metadata": {},
   "source": [
    "Точность предсказания повысилась по сравнению с одним деревом, но незначительно. При этом для дальнейшего увеличения точности надо использовать иные методы, поскольку при последующем добавлении деревьев ошибка почти не уменьшалась.\n",
    "Также было выявлено что категориальные признаки тоже оказывают некоторое влияние на предсказание, хоть и много меньшее чем вещественные и, в частности, температура."
   ]
  }
 ],
 "metadata": {
  "kernelspec": {
   "display_name": "Python 3 (ipykernel)",
   "language": "python",
   "name": "python3"
  },
  "language_info": {
   "codemirror_mode": {
    "name": "ipython",
    "version": 3
   },
   "file_extension": ".py",
   "mimetype": "text/x-python",
   "name": "python",
   "nbconvert_exporter": "python",
   "pygments_lexer": "ipython3",
   "version": "3.10.10"
  }
 },
 "nbformat": 4,
 "nbformat_minor": 4
}

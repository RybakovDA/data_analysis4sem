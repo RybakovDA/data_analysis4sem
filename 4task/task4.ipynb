{
 "cells": [
  {
   "cell_type": "markdown",
   "metadata": {},
   "source": [
    "# <a href=\"https://miptstats.github.io/courses/ad_fivt.html\">Введение в анализ данных</a>\n",
    "## Домашнее задание 4. Анализ вакансий.\n"
   ]
  },
  {
   "cell_type": "markdown",
   "metadata": {},
   "source": [
    "**Правила, <font color=\"red\">прочитайте внимательно</font>:**\n",
    "\n",
    "* Выполненную работу нужно отправить телеграм-боту `@miptstats_ds23_bot`. Для начала работы с ботом каждый раз отправляйте `/start`. Дождитесь подтверждения от бота, что он принял файл. Если подтверждения нет, то что-то не так. **Работы, присланные иным способом, не принимаются.**\n",
    "* Дедлайн см. в боте. После дедлайна работы не принимаются кроме случаев наличия уважительной причины.\n",
    "* Прислать нужно **ноутбук в формате `ipynb` и полученные данные** (подробности далее). Если вы строите интерактивные графики, их стоит прислать в формате html.\n",
    "* Следите за размером файлов. **Бот не может принимать файлы весом более 20 Мб.** Если файл получается больше, заранее разделите его на несколько.\n",
    "* Будьте внимательны при работе со сбором данных. Ответственность за корректность ваших действий лежит на вас. Не нагружайте сервера, *делайте паузы между запросами*. Как следствие, начинайте выполнять задание заранее. **Если вас где-то забаннили и т.п., то это не является уважительной причиной продления дедлайна.**\n",
    "* Выполнять задание необходимо полностью самостоятельно. **При обнаружении списывания все участники списывания будут сдавать устный зачет.**\n",
    "* Решения, размещенные на каких-либо интернет-ресурсах, не принимаются. Кроме того, публикация решения в открытом доступе может быть приравнена к предоставлении возможности списать.\n",
    "* Для выполнения задания используйте этот ноутбук в качестве основы, ничего не удаляя из него. Можно добавлять необходимое количество ячеек.\n",
    "* Комментарии к решению пишите в markdown-ячейках.\n",
    "* Выполнение задания (ход решения, выводы и пр.) должно быть осуществлено на русском языке.\n",
    "* Если код будет не понятен проверяющему, оценка может быть снижена.\n",
    "* Никакой код из данного задания при проверке запускаться не будет. *Если код студента не выполнен, недописан и т.д., то он не оценивается.*\n",
    "\n",
    "**Перед выполнением задания посмотрите презентацию по выполнению и оформлению домашних заданий с занятия 2.**\n",
    "\n",
    "---\n",
    "\n",
    "**Баллы за задание:**\n",
    "\n",
    "<b><a href=\"#Легкая-часть\" style=\"text-decoration: none;\"><font color=\"blue\">Легкая часть</font></a></b> (достаточно на \"хор\"):\n",
    "* Задача 1 &mdash; 60 баллов\n",
    "\n",
    "<b><a href=\"#Сложная-часть\" style=\"text-decoration: none;\"><font color=\"orange\">Сложная часть</font></a></b> (необходимо на \"отл\"):\n",
    "* Задача 2 &mdash; 60 баллов"
   ]
  },
  {
   "cell_type": "code",
   "execution_count": 281,
   "metadata": {},
   "outputs": [],
   "source": [
    "# Bot check\n",
    "\n",
    "# HW_ID: fpmi_ad4\n",
    "# Бот проверит этот ID и предупредит, если случайно сдать что-то не то.\n",
    "\n",
    "# Status: final\n",
    "# Перед отправкой в финальном решении удали \"not\" в строчке выше.\n",
    "# Так бот проверит, что ты отправляешь финальную версию, а не промежуточную.\n",
    "# Никакие значения в этой ячейке не влияют на факт сдачи работы."
   ]
  },
  {
   "cell_type": "code",
   "execution_count": 282,
   "metadata": {
    "colab": {},
    "colab_type": "code",
    "id": "ht9Xm0EucoAr"
   },
   "outputs": [],
   "source": [
    "import requests\n",
    "from time import sleep\n",
    "import json\n",
    "\n",
    "import numpy as np\n",
    "import pandas as pd\n",
    "import matplotlib.pyplot as plt\n",
    "import seaborn as sns\n",
    "\n",
    "sns.set(style='whitegrid', font_scale=1.3, palette='Set2')"
   ]
  },
  {
   "cell_type": "markdown",
   "metadata": {},
   "source": [
    "\n",
    "Второй курс &mdash; самое время задуматься о будущей профессии и проанализировать существующие предложения. Дело тут даже не в том, чтобы найти интересную стажировку. В первую очередь сейчас стоит подумать о том, в какую сторону развиваться дальше. Например, если вы хотите работать в какой-либо конкретной профессии, то наверняка стоит развивать какие-то определенные навыки, и даже выбрать подходящую кафедру. Анализ существующих вакансий поможет определить, какие навыки вам нужны. \n",
    "\n",
    "Задание предполагает вариативность исследуемых данных. Вы можете выбрать один из следующих вариантов.\n",
    "1. Стандартный вариант &mdash; проанализировать вакансии на сайте <a target=\"_blank\" href=\"https://hh.ru/\">hh.ru</a> с использованием <a target=\"_blank\" href=\"https://dev.hh.ru/\">официального API</a>. Далее приведен пример работы с этим API. *Если вы не достаточно уверены в своих силах, рекомендуется выбрать этот вариант.*\n",
    "2. Разобраться с API других сервисов по поиску вакансий, например, <a target=\"_blank\" href=\"https://career.habr.com/\">Хабр.Карьера</a> или <a target=\"_blank\" href=\"https://www.superjob.ru/\">SuperJob</a>.\n",
    "3. Извлечение данных с помощью <a target=\"_blank\" href=\"https://miptstats.github.io/courses/ad_fivt/data_parsing.html#2.-Парсинг-HTML-напрямую\">парсинга HTML напрямую</a> некоторых сайтов. Например, вы можете попробовать напрямую распарсить пул вакансий из тех источников, которые не предоставляют API. **Внимание! Обращайте внимание на пользовательские соглашения и на <a target=\"_blank\" href=\"https://miptstats.github.io/courses/ad_fivt/data_parsing.html#Сбор-данных-из-открытых-источников\">эти рекомендации</a>.**\n",
    "4. Комбинирование нескольких подходов. В этом случае нужно понимать, как находить одинаковые вакансии из разных источников для избежания их двойного учета.\n",
    "5. Можно также *дополнительно* брать архивные данные из недавнего прошлого, например, из <a target=\"_blank\" href=\"https://boosters.pro/championship/HeadHunter/overview/description\">этого соревнования</a>.\n",
    "\n",
    "Перед выполнением задания ознакомьтесь с <a target=\"_blank\" href=\"https://miptstats.github.io/courses/ad_fivt/data_parsing.html\">материалом</a> о сборе данных из открытых источников.\n",
    "\n",
    "Для получения максимального балла за задание достаточно выполнить все задание по стандартному варианту. Альтернативные варианты, даже более сложные, не дают больше баллов, чем максимальное количество баллов по стандартному варианту.\n",
    "\n",
    "Работа в некоторой степени творческая, поэтому конкретные детали решения в основном остаются на усмотрение автора решения. Например, если в вакансии зарплата укзана \"*от ...*\" или  \"*до ...*\", то вы сами решаете, как это обрабатывать, но не забывайте про четкую аргументацию. Не забывайте также заглядывать в презентацию по выполнению и оформлению домашних заданий с занятия 2."
   ]
  },
  {
   "cell_type": "markdown",
   "metadata": {},
   "source": [
    " ---\n",
    "### Справка по работе с API сервиса hh.ru.   \n",
    "\n",
    "<b><font color=\"red\">Внимание!</font> При работе с API не забывайте делать паузы между запросами, чтобы не задудосить сервер. Если вас заблокируют, это не будет являться уважительной причиной переноса дедлайна.</b>\n",
    "\n",
    "Мы будем работать только с вакансиями. Для этого не требуется регистрироваться и получать токен. Ниже приведен краткий пример работы с API. Подробное описание работы с вакансиями, включая параметры запросов и формат ответа можно почитать в <a target=\"_blank\" href=\"https://github.com/hhru/api/blob/master/docs/vacancies.md#search\">документации</a>.\n",
    "\n",
    "Например, мы хотим найти вакансии по запросу `Data Scientist` в Москве. Тогда первую страницу поиска из 10 вакансий на страницу мы можем получить с запроса к API:"
   ]
  },
  {
   "cell_type": "code",
   "execution_count": 283,
   "metadata": {},
   "outputs": [],
   "source": [
    "URL = 'https://api.hh.ru/vacancies'\n",
    "\n",
    "params = {\n",
    "    'text': \"Data Scientist\",\n",
    "    'area': 1,\n",
    "    'page': 0,\n",
    "    'per_page': 10\n",
    "}\n",
    "\n",
    "req = requests.get(URL, params)\n",
    "data = json.loads(req.content.decode())"
   ]
  },
  {
   "cell_type": "markdown",
   "metadata": {},
   "source": [
    "Если все прошло успешно, полученный словарь будет иметь следующие ключи"
   ]
  },
  {
   "cell_type": "code",
   "execution_count": 284,
   "metadata": {},
   "outputs": [
    {
     "data": {
      "text/plain": [
       "dict_keys(['items', 'found', 'pages', 'per_page', 'page', 'clusters', 'arguments', 'alternate_url'])"
      ]
     },
     "execution_count": 284,
     "metadata": {},
     "output_type": "execute_result"
    }
   ],
   "source": [
    "data.keys()"
   ]
  },
  {
   "cell_type": "markdown",
   "metadata": {},
   "source": [
    "Можем посмотреть на краткое описание первой вакансии"
   ]
  },
  {
   "cell_type": "code",
   "execution_count": 285,
   "metadata": {
    "scrolled": false
   },
   "outputs": [
    {
     "data": {
      "text/plain": [
       "{'id': '74376536',\n",
       " 'premium': False,\n",
       " 'name': 'Data scientist',\n",
       " 'department': None,\n",
       " 'has_test': False,\n",
       " 'response_letter_required': False,\n",
       " 'area': {'id': '1', 'name': 'Москва', 'url': 'https://api.hh.ru/areas/1'},\n",
       " 'salary': {'from': 200000, 'to': 240000, 'currency': 'RUR', 'gross': False},\n",
       " 'type': {'id': 'open', 'name': 'Открытая'},\n",
       " 'address': {'city': 'Москва',\n",
       "  'street': 'Походный проезд',\n",
       "  'building': '14',\n",
       "  'lat': 55.838091,\n",
       "  'lng': 37.417167,\n",
       "  'description': None,\n",
       "  'raw': 'Москва, Походный проезд, 14',\n",
       "  'metro': None,\n",
       "  'metro_stations': [],\n",
       "  'id': '953346'},\n",
       " 'response_url': None,\n",
       " 'sort_point_distance': None,\n",
       " 'published_at': '2023-03-04T13:01:29+0300',\n",
       " 'created_at': '2023-03-04T13:01:29+0300',\n",
       " 'archived': False,\n",
       " 'apply_alternate_url': 'https://hh.ru/applicant/vacancy_response?vacancyId=74376536',\n",
       " 'insider_interview': None,\n",
       " 'url': 'https://api.hh.ru/vacancies/74376536?host=hh.ru',\n",
       " 'adv_response_url': None,\n",
       " 'alternate_url': 'https://hh.ru/vacancy/74376536',\n",
       " 'relations': [],\n",
       " 'employer': {'id': '606',\n",
       "  'name': 'Астор',\n",
       "  'url': 'https://api.hh.ru/employers/606',\n",
       "  'alternate_url': 'https://hh.ru/employer/606',\n",
       "  'logo_urls': {'original': 'https://hhcdn.ru/employer-logo-original/895922.png',\n",
       "   '90': 'https://hhcdn.ru/employer-logo/4024375.png',\n",
       "   '240': 'https://hhcdn.ru/employer-logo/4024376.png'},\n",
       "  'vacancies_url': 'https://api.hh.ru/vacancies?employer_id=606',\n",
       "  'trusted': True},\n",
       " 'snippet': {'requirement': 'Опыт работы на позиции <highlighttext>data</highlighttext> <highlighttext>scientist</highlighttext> от 2ух лет. Знание основных алгоритмов и метрик машинного обучения. Ключевые навыки: Python...',\n",
       "  'responsibility': 'Работа в команде по созданию модуля <highlighttext>Data</highlighttext> Science & AI, отвечающего за обработку данных, консолидированных в хранилище, и интеллектуальное обеспечение различных...'},\n",
       " 'contacts': None,\n",
       " 'schedule': {'id': 'remote', 'name': 'Удаленная работа'},\n",
       " 'working_days': [],\n",
       " 'working_time_intervals': [],\n",
       " 'working_time_modes': [],\n",
       " 'accept_temporary': False,\n",
       " 'professional_roles': [{'id': '10', 'name': 'Аналитик'}],\n",
       " 'accept_incomplete_resumes': False}"
      ]
     },
     "execution_count": 285,
     "metadata": {},
     "output_type": "execute_result"
    }
   ],
   "source": [
    "data['items'][0]"
   ]
  },
  {
   "cell_type": "markdown",
   "metadata": {},
   "source": [
    "Сколько всего найдено вакансий"
   ]
  },
  {
   "cell_type": "code",
   "execution_count": 286,
   "metadata": {},
   "outputs": [
    {
     "data": {
      "text/plain": [
       "256"
      ]
     },
     "execution_count": 286,
     "metadata": {},
     "output_type": "execute_result"
    }
   ],
   "source": [
    "data['found']"
   ]
  },
  {
   "cell_type": "markdown",
   "metadata": {},
   "source": [
    "Количество страниц в результатах поиска"
   ]
  },
  {
   "cell_type": "code",
   "execution_count": 287,
   "metadata": {},
   "outputs": [
    {
     "data": {
      "text/plain": [
       "26"
      ]
     },
     "execution_count": 287,
     "metadata": {},
     "output_type": "execute_result"
    }
   ],
   "source": [
    "data['pages']"
   ]
  },
  {
   "cell_type": "markdown",
   "metadata": {},
   "source": [
    "Из результатов можем сделать удобную таблицу, причем в дальнейшем можно оставить только те колонки, которые необходимы для анализа."
   ]
  },
  {
   "cell_type": "code",
   "execution_count": 288,
   "metadata": {
    "scrolled": false
   },
   "outputs": [
    {
     "data": {
      "text/html": [
       "<div>\n",
       "<style scoped>\n",
       "    .dataframe tbody tr th:only-of-type {\n",
       "        vertical-align: middle;\n",
       "    }\n",
       "\n",
       "    .dataframe tbody tr th {\n",
       "        vertical-align: top;\n",
       "    }\n",
       "\n",
       "    .dataframe thead th {\n",
       "        text-align: right;\n",
       "    }\n",
       "</style>\n",
       "<table border=\"1\" class=\"dataframe\">\n",
       "  <thead>\n",
       "    <tr style=\"text-align: right;\">\n",
       "      <th></th>\n",
       "      <th>id</th>\n",
       "      <th>premium</th>\n",
       "      <th>name</th>\n",
       "      <th>department</th>\n",
       "      <th>has_test</th>\n",
       "      <th>response_letter_required</th>\n",
       "      <th>response_url</th>\n",
       "      <th>sort_point_distance</th>\n",
       "      <th>published_at</th>\n",
       "      <th>created_at</th>\n",
       "      <th>...</th>\n",
       "      <th>address.metro.station_name</th>\n",
       "      <th>address.metro.line_name</th>\n",
       "      <th>address.metro.station_id</th>\n",
       "      <th>address.metro.line_id</th>\n",
       "      <th>address.metro.lat</th>\n",
       "      <th>address.metro.lng</th>\n",
       "      <th>salary</th>\n",
       "      <th>department.id</th>\n",
       "      <th>department.name</th>\n",
       "      <th>employer.logo_urls</th>\n",
       "    </tr>\n",
       "  </thead>\n",
       "  <tbody>\n",
       "    <tr>\n",
       "      <th>0</th>\n",
       "      <td>74376536</td>\n",
       "      <td>False</td>\n",
       "      <td>Data scientist</td>\n",
       "      <td>NaN</td>\n",
       "      <td>False</td>\n",
       "      <td>False</td>\n",
       "      <td>None</td>\n",
       "      <td>None</td>\n",
       "      <td>2023-03-04T13:01:29+0300</td>\n",
       "      <td>2023-03-04T13:01:29+0300</td>\n",
       "      <td>...</td>\n",
       "      <td>NaN</td>\n",
       "      <td>NaN</td>\n",
       "      <td>NaN</td>\n",
       "      <td>NaN</td>\n",
       "      <td>NaN</td>\n",
       "      <td>NaN</td>\n",
       "      <td>NaN</td>\n",
       "      <td>NaN</td>\n",
       "      <td>NaN</td>\n",
       "      <td>NaN</td>\n",
       "    </tr>\n",
       "    <tr>\n",
       "      <th>1</th>\n",
       "      <td>77613664</td>\n",
       "      <td>False</td>\n",
       "      <td>Data Scientist</td>\n",
       "      <td>NaN</td>\n",
       "      <td>False</td>\n",
       "      <td>False</td>\n",
       "      <td>None</td>\n",
       "      <td>None</td>\n",
       "      <td>2023-03-02T17:13:07+0300</td>\n",
       "      <td>2023-03-02T17:13:07+0300</td>\n",
       "      <td>...</td>\n",
       "      <td>NaN</td>\n",
       "      <td>NaN</td>\n",
       "      <td>NaN</td>\n",
       "      <td>NaN</td>\n",
       "      <td>NaN</td>\n",
       "      <td>NaN</td>\n",
       "      <td>NaN</td>\n",
       "      <td>NaN</td>\n",
       "      <td>NaN</td>\n",
       "      <td>NaN</td>\n",
       "    </tr>\n",
       "    <tr>\n",
       "      <th>2</th>\n",
       "      <td>74257661</td>\n",
       "      <td>False</td>\n",
       "      <td>Data scientist</td>\n",
       "      <td>NaN</td>\n",
       "      <td>False</td>\n",
       "      <td>False</td>\n",
       "      <td>None</td>\n",
       "      <td>None</td>\n",
       "      <td>2023-03-01T15:02:29+0300</td>\n",
       "      <td>2023-03-01T15:02:29+0300</td>\n",
       "      <td>...</td>\n",
       "      <td>Минская</td>\n",
       "      <td>Солнцевская</td>\n",
       "      <td>133.555</td>\n",
       "      <td>133</td>\n",
       "      <td>55.723200</td>\n",
       "      <td>37.503800</td>\n",
       "      <td>NaN</td>\n",
       "      <td>NaN</td>\n",
       "      <td>NaN</td>\n",
       "      <td>NaN</td>\n",
       "    </tr>\n",
       "    <tr>\n",
       "      <th>3</th>\n",
       "      <td>77604691</td>\n",
       "      <td>False</td>\n",
       "      <td>Junior Data Scientist (отдел исследований и мо...</td>\n",
       "      <td>NaN</td>\n",
       "      <td>False</td>\n",
       "      <td>False</td>\n",
       "      <td>None</td>\n",
       "      <td>None</td>\n",
       "      <td>2023-03-02T14:52:44+0300</td>\n",
       "      <td>2023-03-02T14:52:44+0300</td>\n",
       "      <td>...</td>\n",
       "      <td>Белорусская</td>\n",
       "      <td>Замоскворецкая</td>\n",
       "      <td>2.19</td>\n",
       "      <td>2</td>\n",
       "      <td>55.777439</td>\n",
       "      <td>37.582107</td>\n",
       "      <td>NaN</td>\n",
       "      <td>NaN</td>\n",
       "      <td>NaN</td>\n",
       "      <td>NaN</td>\n",
       "    </tr>\n",
       "    <tr>\n",
       "      <th>4</th>\n",
       "      <td>77656158</td>\n",
       "      <td>False</td>\n",
       "      <td>Data Scientist Intern</td>\n",
       "      <td>NaN</td>\n",
       "      <td>False</td>\n",
       "      <td>False</td>\n",
       "      <td>None</td>\n",
       "      <td>None</td>\n",
       "      <td>2023-03-03T16:06:49+0300</td>\n",
       "      <td>2023-03-03T16:06:49+0300</td>\n",
       "      <td>...</td>\n",
       "      <td>NaN</td>\n",
       "      <td>NaN</td>\n",
       "      <td>NaN</td>\n",
       "      <td>NaN</td>\n",
       "      <td>NaN</td>\n",
       "      <td>NaN</td>\n",
       "      <td>NaN</td>\n",
       "      <td>NaN</td>\n",
       "      <td>NaN</td>\n",
       "      <td>NaN</td>\n",
       "    </tr>\n",
       "  </tbody>\n",
       "</table>\n",
       "<p>5 rows × 67 columns</p>\n",
       "</div>"
      ],
      "text/plain": [
       "         id  premium                                               name  \\\n",
       "0  74376536    False                                     Data scientist   \n",
       "1  77613664    False                                     Data Scientist   \n",
       "2  74257661    False                                     Data scientist   \n",
       "3  77604691    False  Junior Data Scientist (отдел исследований и мо...   \n",
       "4  77656158    False                              Data Scientist Intern   \n",
       "\n",
       "   department  has_test  response_letter_required response_url  \\\n",
       "0         NaN     False                     False         None   \n",
       "1         NaN     False                     False         None   \n",
       "2         NaN     False                     False         None   \n",
       "3         NaN     False                     False         None   \n",
       "4         NaN     False                     False         None   \n",
       "\n",
       "  sort_point_distance              published_at                created_at  \\\n",
       "0                None  2023-03-04T13:01:29+0300  2023-03-04T13:01:29+0300   \n",
       "1                None  2023-03-02T17:13:07+0300  2023-03-02T17:13:07+0300   \n",
       "2                None  2023-03-01T15:02:29+0300  2023-03-01T15:02:29+0300   \n",
       "3                None  2023-03-02T14:52:44+0300  2023-03-02T14:52:44+0300   \n",
       "4                None  2023-03-03T16:06:49+0300  2023-03-03T16:06:49+0300   \n",
       "\n",
       "   ...  address.metro.station_name address.metro.line_name  \\\n",
       "0  ...                         NaN                     NaN   \n",
       "1  ...                         NaN                     NaN   \n",
       "2  ...                     Минская             Солнцевская   \n",
       "3  ...                 Белорусская          Замоскворецкая   \n",
       "4  ...                         NaN                     NaN   \n",
       "\n",
       "  address.metro.station_id address.metro.line_id address.metro.lat  \\\n",
       "0                      NaN                   NaN               NaN   \n",
       "1                      NaN                   NaN               NaN   \n",
       "2                  133.555                   133         55.723200   \n",
       "3                     2.19                     2         55.777439   \n",
       "4                      NaN                   NaN               NaN   \n",
       "\n",
       "  address.metro.lng salary department.id department.name employer.logo_urls  \n",
       "0               NaN    NaN           NaN             NaN                NaN  \n",
       "1               NaN    NaN           NaN             NaN                NaN  \n",
       "2         37.503800    NaN           NaN             NaN                NaN  \n",
       "3         37.582107    NaN           NaN             NaN                NaN  \n",
       "4               NaN    NaN           NaN             NaN                NaN  \n",
       "\n",
       "[5 rows x 67 columns]"
      ]
     },
     "execution_count": 288,
     "metadata": {},
     "output_type": "execute_result"
    }
   ],
   "source": [
    "df = pd.json_normalize(data['items'])\n",
    "df.head()"
   ]
  },
  {
   "cell_type": "markdown",
   "metadata": {},
   "source": [
    "Для получения полного описания вакансии потребуется задать отдельный запрос, используя ее `id`."
   ]
  },
  {
   "cell_type": "code",
   "execution_count": 289,
   "metadata": {},
   "outputs": [],
   "source": [
    "vacancy = df['id'].iloc[0]\n",
    "vacancy_url = f'https://api.hh.ru/vacancies/{vacancy}'\n",
    "\n",
    "req = requests.get(vacancy_url)\n",
    "vacancy_info = json.loads(req.content.decode())"
   ]
  },
  {
   "cell_type": "code",
   "execution_count": 290,
   "metadata": {
    "scrolled": false
   },
   "outputs": [
    {
     "data": {
      "text/plain": [
       "{'id': '74376536',\n",
       " 'premium': False,\n",
       " 'billing_type': {'id': 'standard_plus', 'name': 'Стандарт плюс'},\n",
       " 'relations': [],\n",
       " 'name': 'Data scientist',\n",
       " 'insider_interview': None,\n",
       " 'response_letter_required': False,\n",
       " 'area': {'id': '1', 'name': 'Москва', 'url': 'https://api.hh.ru/areas/1'},\n",
       " 'salary': {'from': 200000, 'to': 240000, 'currency': 'RUR', 'gross': False},\n",
       " 'type': {'id': 'open', 'name': 'Открытая'},\n",
       " 'address': {'city': 'Москва',\n",
       "  'street': 'Походный проезд',\n",
       "  'building': '14',\n",
       "  'lat': 55.838091,\n",
       "  'lng': 37.417167,\n",
       "  'description': None,\n",
       "  'raw': 'Москва, Походный проезд, 14',\n",
       "  'metro': None,\n",
       "  'metro_stations': []},\n",
       " 'allow_messages': True,\n",
       " 'experience': {'id': 'between3And6', 'name': 'От 3 до 6 лет'},\n",
       " 'schedule': {'id': 'remote', 'name': 'Удаленная работа'},\n",
       " 'employment': {'id': 'full', 'name': 'Полная занятость'},\n",
       " 'department': None,\n",
       " 'contacts': None,\n",
       " 'description': '<strong>Обязанности:</strong> <ul> <li>Работа в команде по созданию модуля Data Science &amp; AI, отвечающего за обработку данных, консолидированных в хранилище, и интеллектуальное обеспечение различных бизнес-процессов розничной компании.</li> <li>Анализ и обработка больших массивов структурированных и неструктурированных данных;</li> <li>Создание и развитие batch/real-time моделей персональных товарных предложений и рекомендаций для покупателей; развитие моделей сегментации и прогнозирования оттока; поиск структур в данных, прогнозирование спроса, оптимизация цен, распознавание изображений товаров, анализ тональности откликов, выявление мошенничества и пр.;</li> <li>Полный цикл (data collection, feature engineering, model fitting, model management, visualization, model serving) создания набора моделей на основе транзакционной и поведенческой информации;</li> <li>Участие в разработке и стандартизации ML-пайплайнов;</li> <li>Еxperiment и code-review.</li> </ul> <strong>Требования:</strong> <ul> <li>Опыт работы на позиции data scientist от 2ух лет;</li> <li>Знание основных алгоритмов и метрик машинного обучения;</li> <li>Ключевые навыки: Python, SQL, ML;</li> <li>Практические навыки работы с рекомендательными системами: знание архитектур и алгоритмов в основе collaborative filtering / content based / hybrid recommender systems;</li> <li>Аналитические способности и логическое мышление;</li> <li>Знание математической статистики и теории вероятности;</li> <li>Умение объяснять и адаптировать сложные системы и технические термины к ясной лаконичной форме для нетехнических специалистов;</li> <li>Умение работать в команде на результат;</li> <li>Внимательность;</li> <li>Ответственность;</li> <li>Целеустремлённость;</li> <li>Знание английского языка на уровне чтения технических материалов.</li> </ul> <p><strong>Приветствуется:</strong></p> <ul> <li>Опыт работы в компаниях в сфере розничной торговли;</li> <li>Образование - МФТИ, МГТУ им. Баумана, МГУ, СПбГУ, Сколтех, НГУ;</li> <li>Достижения по итогам участия в олимпиадах по техническим дисциплинам (математика, программирование, физика);</li> <li>Практические навыки работы с Deep Learning фреймворками PyTorch, TensorFlow и пр.;</li> <li>Участие в соревнованиях по решению задач с помощью машинного обучения (Kaggle, RecSys пр.);</li> <li>Участие в разработке opensourсe библиотек, пройденные за последний год оффлайн и онлайн курсы (coursera, udemy и пр.);</li> <li>Желателен опыт работы со Spark, Scala, Airflow.</li> </ul> <strong>Условия:</strong> <ul> <li>работа в аккредитованной IT-компании</li> <li>Оформление по ТК РФ</li> <li>График работы - гибкий, с учетом часовых поясов</li> <li>Перспективы профессионального роста (рост в зарплате и по карьерной лестнице)</li> <li>Возможна удаленная работа из-за границы, в том числе из Турции, Грузии, Армении, Казахстан, Узбекистан и др.</li> </ul>',\n",
       " 'branded_description': None,\n",
       " 'vacancy_constructor_template': None,\n",
       " 'key_skills': [{'name': 'Python'},\n",
       "  {'name': 'PyTorch'},\n",
       "  {'name': 'Machine Learning'},\n",
       "  {'name': 'Spark'},\n",
       "  {'name': 'SQL'}],\n",
       " 'accept_handicapped': False,\n",
       " 'accept_kids': False,\n",
       " 'archived': False,\n",
       " 'response_url': None,\n",
       " 'specializations': [],\n",
       " 'professional_roles': [{'id': '10', 'name': 'Аналитик'}],\n",
       " 'code': None,\n",
       " 'hidden': False,\n",
       " 'quick_responses_allowed': False,\n",
       " 'driver_license_types': [],\n",
       " 'accept_incomplete_resumes': False,\n",
       " 'employer': {'id': '606',\n",
       "  'name': 'Астор',\n",
       "  'url': 'https://api.hh.ru/employers/606',\n",
       "  'alternate_url': 'https://hh.ru/employer/606',\n",
       "  'logo_urls': {'original': 'https://hhcdn.ru/employer-logo-original/895922.png',\n",
       "   '90': 'https://hhcdn.ru/employer-logo/4024375.png',\n",
       "   '240': 'https://hhcdn.ru/employer-logo/4024376.png'},\n",
       "  'vacancies_url': 'https://api.hh.ru/vacancies?employer_id=606',\n",
       "  'trusted': True},\n",
       " 'published_at': '2023-03-04T13:01:29+0300',\n",
       " 'created_at': '2023-03-04T13:01:29+0300',\n",
       " 'initial_created_at': '2022-12-29T12:15:51+0300',\n",
       " 'negotiations_url': None,\n",
       " 'suitable_resumes_url': None,\n",
       " 'apply_alternate_url': 'https://hh.ru/applicant/vacancy_response?vacancyId=74376536',\n",
       " 'has_test': False,\n",
       " 'test': None,\n",
       " 'alternate_url': 'https://hh.ru/vacancy/74376536',\n",
       " 'working_days': [],\n",
       " 'working_time_intervals': [],\n",
       " 'working_time_modes': [],\n",
       " 'accept_temporary': False,\n",
       " 'languages': []}"
      ]
     },
     "execution_count": 290,
     "metadata": {},
     "output_type": "execute_result"
    }
   ],
   "source": [
    "vacancy_info"
   ]
  },
  {
   "cell_type": "markdown",
   "metadata": {},
   "source": [
    "### <font color=\"blue\"><i>Легкая часть</i></font>"
   ]
  },
  {
   "cell_type": "markdown",
   "metadata": {},
   "source": [
    " ---\n",
    "### Задача 1.   \n",
    "\n",
    "Исследуем профессию Data Scientist. Найдите как можно больше вакансий по этой профессии в Москве. Учтите, что имеет смысл искать также по другим ключевым словам, например, `аналитик данных`."
   ]
  },
  {
   "cell_type": "code",
   "execution_count": 297,
   "metadata": {},
   "outputs": [],
   "source": [
    "URL = 'https://api.hh.ru/vacancies'\n",
    "\n",
    "\n",
    "\n",
    "data = pd.DataFrame()\n",
    "\n",
    "for i in range(10):\n",
    "    params = {\n",
    "        'text': \"Data Scientist OR data* OR анали* OR данны*\",\n",
    "        'area': 1,\n",
    "        'page': i,\n",
    "        'per_page': 100\n",
    "    }\n",
    "    req = requests.get(URL, params)\n",
    "    data = pd.concat([data, pd.DataFrame(json.loads(req.content.decode()))])"
   ]
  },
  {
   "cell_type": "code",
   "execution_count": 298,
   "metadata": {},
   "outputs": [],
   "source": [
    "df = pd.json_normalize(data['items'])"
   ]
  },
  {
   "cell_type": "markdown",
   "metadata": {},
   "source": [
    "В полученную выборку некоторые вакансии могли попасть несколько раз. Удалите дубликаты."
   ]
  },
  {
   "cell_type": "code",
   "execution_count": 299,
   "metadata": {},
   "outputs": [],
   "source": [
    "df = df.astype(str).drop_duplicates()"
   ]
  },
  {
   "cell_type": "markdown",
   "metadata": {},
   "source": [
    "Загрузите подробное описание каждой вакансии и создайте удобную для дальнейших действий таблицу данных."
   ]
  },
  {
   "cell_type": "code",
   "execution_count": 300,
   "metadata": {
    "scrolled": false
   },
   "outputs": [],
   "source": [
    "vacancies_df = pd.DataFrame()\n",
    "\n",
    "for i in range(df['id'].count()):\n",
    "    sleep(0.5)\n",
    "    vacancy = df['id'].iloc[i]\n",
    "    vacancy_url = f'https://api.hh.ru/vacancies/{vacancy}'\n",
    "    req = requests.get(vacancy_url)\n",
    "    vacancy_info = json.loads(req.content.decode())\n",
    "    vacancies_df = pd.concat([vacancies_df, pd.DataFrame([vacancy_info])], ignore_index=True)"
   ]
  },
  {
   "cell_type": "markdown",
   "metadata": {},
   "source": [
    "Заведем новую переменную для удобства проверки и нейтрализации потребности повторных запросов."
   ]
  },
  {
   "cell_type": "code",
   "execution_count": 415,
   "metadata": {},
   "outputs": [],
   "source": [
    "vacancies = vacancies_df"
   ]
  },
  {
   "cell_type": "markdown",
   "metadata": {},
   "source": [
    "Убеерем столбцы с неинформативным содержанием(везде None или пустой список)"
   ]
  },
  {
   "cell_type": "code",
   "execution_count": 416,
   "metadata": {
    "scrolled": true
   },
   "outputs": [
    {
     "data": {
      "text/html": [
       "<div>\n",
       "<style scoped>\n",
       "    .dataframe tbody tr th:only-of-type {\n",
       "        vertical-align: middle;\n",
       "    }\n",
       "\n",
       "    .dataframe tbody tr th {\n",
       "        vertical-align: top;\n",
       "    }\n",
       "\n",
       "    .dataframe thead th {\n",
       "        text-align: right;\n",
       "    }\n",
       "</style>\n",
       "<table border=\"1\" class=\"dataframe\">\n",
       "  <thead>\n",
       "    <tr style=\"text-align: right;\">\n",
       "      <th></th>\n",
       "      <th>id</th>\n",
       "      <th>premium</th>\n",
       "      <th>billing_type</th>\n",
       "      <th>name</th>\n",
       "      <th>insider_interview</th>\n",
       "      <th>response_letter_required</th>\n",
       "      <th>area</th>\n",
       "      <th>salary</th>\n",
       "      <th>type</th>\n",
       "      <th>address</th>\n",
       "      <th>...</th>\n",
       "      <th>initial_created_at</th>\n",
       "      <th>apply_alternate_url</th>\n",
       "      <th>has_test</th>\n",
       "      <th>test</th>\n",
       "      <th>alternate_url</th>\n",
       "      <th>working_days</th>\n",
       "      <th>working_time_intervals</th>\n",
       "      <th>working_time_modes</th>\n",
       "      <th>accept_temporary</th>\n",
       "      <th>languages</th>\n",
       "    </tr>\n",
       "  </thead>\n",
       "  <tbody>\n",
       "    <tr>\n",
       "      <th>0</th>\n",
       "      <td>74376536</td>\n",
       "      <td>False</td>\n",
       "      <td>{'id': 'standard_plus', 'name': 'Стандарт плюс'}</td>\n",
       "      <td>Data scientist</td>\n",
       "      <td>None</td>\n",
       "      <td>False</td>\n",
       "      <td>{'id': '1', 'name': 'Москва', 'url': 'https://...</td>\n",
       "      <td>{'from': 200000, 'to': 240000, 'currency': 'RU...</td>\n",
       "      <td>{'id': 'open', 'name': 'Открытая'}</td>\n",
       "      <td>{'city': 'Москва', 'street': 'Походный проезд'...</td>\n",
       "      <td>...</td>\n",
       "      <td>2022-12-29T12:15:51+0300</td>\n",
       "      <td>https://hh.ru/applicant/vacancy_response?vacan...</td>\n",
       "      <td>False</td>\n",
       "      <td>None</td>\n",
       "      <td>https://hh.ru/vacancy/74376536</td>\n",
       "      <td>None</td>\n",
       "      <td>None</td>\n",
       "      <td>None</td>\n",
       "      <td>False</td>\n",
       "      <td>None</td>\n",
       "    </tr>\n",
       "    <tr>\n",
       "      <th>1</th>\n",
       "      <td>76536709</td>\n",
       "      <td>False</td>\n",
       "      <td>{'id': 'standard_plus', 'name': 'Стандарт плюс'}</td>\n",
       "      <td>Data Scientist (LTV)</td>\n",
       "      <td>None</td>\n",
       "      <td>False</td>\n",
       "      <td>{'id': '1', 'name': 'Москва', 'url': 'https://...</td>\n",
       "      <td>None</td>\n",
       "      <td>{'id': 'open', 'name': 'Открытая'}</td>\n",
       "      <td>None</td>\n",
       "      <td>...</td>\n",
       "      <td>2023-02-02T10:39:25+0300</td>\n",
       "      <td>https://hh.ru/applicant/vacancy_response?vacan...</td>\n",
       "      <td>False</td>\n",
       "      <td>None</td>\n",
       "      <td>https://hh.ru/vacancy/76536709</td>\n",
       "      <td>None</td>\n",
       "      <td>None</td>\n",
       "      <td>None</td>\n",
       "      <td>False</td>\n",
       "      <td>None</td>\n",
       "    </tr>\n",
       "    <tr>\n",
       "      <th>2</th>\n",
       "      <td>77208642</td>\n",
       "      <td>False</td>\n",
       "      <td>{'id': 'standard_plus', 'name': 'Стандарт плюс'}</td>\n",
       "      <td>Data Scientist middle+/Senior</td>\n",
       "      <td>None</td>\n",
       "      <td>False</td>\n",
       "      <td>{'id': '1', 'name': 'Москва', 'url': 'https://...</td>\n",
       "      <td>{'from': 250000, 'to': 350000, 'currency': 'RU...</td>\n",
       "      <td>{'id': 'open', 'name': 'Открытая'}</td>\n",
       "      <td>None</td>\n",
       "      <td>...</td>\n",
       "      <td>2023-02-20T12:06:39+0300</td>\n",
       "      <td>https://hh.ru/applicant/vacancy_response?vacan...</td>\n",
       "      <td>False</td>\n",
       "      <td>None</td>\n",
       "      <td>https://hh.ru/vacancy/77208642</td>\n",
       "      <td>None</td>\n",
       "      <td>None</td>\n",
       "      <td>None</td>\n",
       "      <td>False</td>\n",
       "      <td>None</td>\n",
       "    </tr>\n",
       "    <tr>\n",
       "      <th>3</th>\n",
       "      <td>75546364</td>\n",
       "      <td>False</td>\n",
       "      <td>{'id': 'standard_plus', 'name': 'Стандарт плюс'}</td>\n",
       "      <td>Эконометрист/Data scientist (Junior/Middle) в ...</td>\n",
       "      <td>None</td>\n",
       "      <td>False</td>\n",
       "      <td>{'id': '1', 'name': 'Москва', 'url': 'https://...</td>\n",
       "      <td>{'from': 40000, 'to': None, 'currency': 'RUR',...</td>\n",
       "      <td>{'id': 'open', 'name': 'Открытая'}</td>\n",
       "      <td>{'city': 'Москва', 'street': 'Замоскворецкая л...</td>\n",
       "      <td>...</td>\n",
       "      <td>2023-01-09T12:41:38+0300</td>\n",
       "      <td>https://hh.ru/applicant/vacancy_response?vacan...</td>\n",
       "      <td>False</td>\n",
       "      <td>None</td>\n",
       "      <td>https://hh.ru/vacancy/75546364</td>\n",
       "      <td>None</td>\n",
       "      <td>None</td>\n",
       "      <td>None</td>\n",
       "      <td>False</td>\n",
       "      <td>None</td>\n",
       "    </tr>\n",
       "    <tr>\n",
       "      <th>4</th>\n",
       "      <td>77656659</td>\n",
       "      <td>False</td>\n",
       "      <td>{'id': 'standard', 'name': 'Стандарт'}</td>\n",
       "      <td>Data Scientist</td>\n",
       "      <td>None</td>\n",
       "      <td>False</td>\n",
       "      <td>{'id': '1', 'name': 'Москва', 'url': 'https://...</td>\n",
       "      <td>None</td>\n",
       "      <td>{'id': 'open', 'name': 'Открытая'}</td>\n",
       "      <td>{'city': None, 'street': None, 'building': Non...</td>\n",
       "      <td>...</td>\n",
       "      <td>2023-03-03T16:15:22+0300</td>\n",
       "      <td>https://hh.ru/applicant/vacancy_response?vacan...</td>\n",
       "      <td>False</td>\n",
       "      <td>None</td>\n",
       "      <td>https://hh.ru/vacancy/77656659</td>\n",
       "      <td>None</td>\n",
       "      <td>None</td>\n",
       "      <td>None</td>\n",
       "      <td>False</td>\n",
       "      <td>None</td>\n",
       "    </tr>\n",
       "    <tr>\n",
       "      <th>...</th>\n",
       "      <td>...</td>\n",
       "      <td>...</td>\n",
       "      <td>...</td>\n",
       "      <td>...</td>\n",
       "      <td>...</td>\n",
       "      <td>...</td>\n",
       "      <td>...</td>\n",
       "      <td>...</td>\n",
       "      <td>...</td>\n",
       "      <td>...</td>\n",
       "      <td>...</td>\n",
       "      <td>...</td>\n",
       "      <td>...</td>\n",
       "      <td>...</td>\n",
       "      <td>...</td>\n",
       "      <td>...</td>\n",
       "      <td>...</td>\n",
       "      <td>...</td>\n",
       "      <td>...</td>\n",
       "      <td>...</td>\n",
       "      <td>...</td>\n",
       "    </tr>\n",
       "    <tr>\n",
       "      <th>995</th>\n",
       "      <td>76163248</td>\n",
       "      <td>False</td>\n",
       "      <td>{'id': 'standard', 'name': 'Стандарт'}</td>\n",
       "      <td>Системный аналитик (начинающий уровень )</td>\n",
       "      <td>None</td>\n",
       "      <td>False</td>\n",
       "      <td>{'id': '1', 'name': 'Москва', 'url': 'https://...</td>\n",
       "      <td>None</td>\n",
       "      <td>{'id': 'open', 'name': 'Открытая'}</td>\n",
       "      <td>None</td>\n",
       "      <td>...</td>\n",
       "      <td>2023-01-24T17:59:24+0300</td>\n",
       "      <td>https://hh.ru/applicant/vacancy_response?vacan...</td>\n",
       "      <td>False</td>\n",
       "      <td>None</td>\n",
       "      <td>https://hh.ru/vacancy/76163248</td>\n",
       "      <td>None</td>\n",
       "      <td>None</td>\n",
       "      <td>None</td>\n",
       "      <td>False</td>\n",
       "      <td>None</td>\n",
       "    </tr>\n",
       "    <tr>\n",
       "      <th>996</th>\n",
       "      <td>76342686</td>\n",
       "      <td>False</td>\n",
       "      <td>{'id': 'standard', 'name': 'Стандарт'}</td>\n",
       "      <td>Главный специалист Отдела аналитики и верифика...</td>\n",
       "      <td>None</td>\n",
       "      <td>False</td>\n",
       "      <td>{'id': '1', 'name': 'Москва', 'url': 'https://...</td>\n",
       "      <td>None</td>\n",
       "      <td>{'id': 'open', 'name': 'Открытая'}</td>\n",
       "      <td>{'city': None, 'street': None, 'building': Non...</td>\n",
       "      <td>...</td>\n",
       "      <td>2023-01-27T16:00:58+0300</td>\n",
       "      <td>https://hh.ru/applicant/vacancy_response?vacan...</td>\n",
       "      <td>False</td>\n",
       "      <td>None</td>\n",
       "      <td>https://hh.ru/vacancy/76342686</td>\n",
       "      <td>None</td>\n",
       "      <td>None</td>\n",
       "      <td>None</td>\n",
       "      <td>False</td>\n",
       "      <td>None</td>\n",
       "    </tr>\n",
       "    <tr>\n",
       "      <th>997</th>\n",
       "      <td>77331462</td>\n",
       "      <td>False</td>\n",
       "      <td>{'id': 'standard_plus', 'name': 'Стандарт плюс'}</td>\n",
       "      <td>Системный аналитик</td>\n",
       "      <td>None</td>\n",
       "      <td>False</td>\n",
       "      <td>{'id': '1', 'name': 'Москва', 'url': 'https://...</td>\n",
       "      <td>None</td>\n",
       "      <td>{'id': 'open', 'name': 'Открытая'}</td>\n",
       "      <td>{'city': 'Москва', 'street': 'Варшавское шоссе...</td>\n",
       "      <td>...</td>\n",
       "      <td>2023-02-22T14:52:40+0300</td>\n",
       "      <td>https://hh.ru/applicant/vacancy_response?vacan...</td>\n",
       "      <td>False</td>\n",
       "      <td>None</td>\n",
       "      <td>https://hh.ru/vacancy/77331462</td>\n",
       "      <td>None</td>\n",
       "      <td>None</td>\n",
       "      <td>None</td>\n",
       "      <td>False</td>\n",
       "      <td>[{'id': 'eng', 'name': 'Английский', 'level': ...</td>\n",
       "    </tr>\n",
       "    <tr>\n",
       "      <th>998</th>\n",
       "      <td>77652216</td>\n",
       "      <td>False</td>\n",
       "      <td>{'id': 'standard_plus', 'name': 'Стандарт плюс'}</td>\n",
       "      <td>Химик-аналитик в физико-химическое подразделение</td>\n",
       "      <td>None</td>\n",
       "      <td>False</td>\n",
       "      <td>{'id': '1', 'name': 'Москва', 'url': 'https://...</td>\n",
       "      <td>{'from': 60000, 'to': 70000, 'currency': 'RUR'...</td>\n",
       "      <td>{'id': 'open', 'name': 'Открытая'}</td>\n",
       "      <td>{'city': 'Королёв', 'street': 'микрорайон Подл...</td>\n",
       "      <td>...</td>\n",
       "      <td>2023-03-03T14:52:32+0300</td>\n",
       "      <td>https://hh.ru/applicant/vacancy_response?vacan...</td>\n",
       "      <td>False</td>\n",
       "      <td>None</td>\n",
       "      <td>https://hh.ru/vacancy/77652216</td>\n",
       "      <td>None</td>\n",
       "      <td>None</td>\n",
       "      <td>None</td>\n",
       "      <td>False</td>\n",
       "      <td>None</td>\n",
       "    </tr>\n",
       "    <tr>\n",
       "      <th>999</th>\n",
       "      <td>77658165</td>\n",
       "      <td>False</td>\n",
       "      <td>{'id': 'standard_plus', 'name': 'Стандарт плюс'}</td>\n",
       "      <td>Оператор базы данных</td>\n",
       "      <td>None</td>\n",
       "      <td>False</td>\n",
       "      <td>{'id': '1', 'name': 'Москва', 'url': 'https://...</td>\n",
       "      <td>{'from': 50000, 'to': None, 'currency': 'RUR',...</td>\n",
       "      <td>{'id': 'open', 'name': 'Открытая'}</td>\n",
       "      <td>{'city': 'Москва', 'street': 'Рябиновая улица'...</td>\n",
       "      <td>...</td>\n",
       "      <td>2023-03-03T16:42:08+0300</td>\n",
       "      <td>https://hh.ru/applicant/vacancy_response?vacan...</td>\n",
       "      <td>False</td>\n",
       "      <td>None</td>\n",
       "      <td>https://hh.ru/vacancy/77658165</td>\n",
       "      <td>None</td>\n",
       "      <td>None</td>\n",
       "      <td>None</td>\n",
       "      <td>False</td>\n",
       "      <td>None</td>\n",
       "    </tr>\n",
       "  </tbody>\n",
       "</table>\n",
       "<p>1000 rows × 40 columns</p>\n",
       "</div>"
      ],
      "text/plain": [
       "           id  premium                                      billing_type  \\\n",
       "0    74376536    False  {'id': 'standard_plus', 'name': 'Стандарт плюс'}   \n",
       "1    76536709    False  {'id': 'standard_plus', 'name': 'Стандарт плюс'}   \n",
       "2    77208642    False  {'id': 'standard_plus', 'name': 'Стандарт плюс'}   \n",
       "3    75546364    False  {'id': 'standard_plus', 'name': 'Стандарт плюс'}   \n",
       "4    77656659    False            {'id': 'standard', 'name': 'Стандарт'}   \n",
       "..        ...      ...                                               ...   \n",
       "995  76163248    False            {'id': 'standard', 'name': 'Стандарт'}   \n",
       "996  76342686    False            {'id': 'standard', 'name': 'Стандарт'}   \n",
       "997  77331462    False  {'id': 'standard_plus', 'name': 'Стандарт плюс'}   \n",
       "998  77652216    False  {'id': 'standard_plus', 'name': 'Стандарт плюс'}   \n",
       "999  77658165    False  {'id': 'standard_plus', 'name': 'Стандарт плюс'}   \n",
       "\n",
       "                                                  name insider_interview  \\\n",
       "0                                       Data scientist              None   \n",
       "1                                 Data Scientist (LTV)              None   \n",
       "2                        Data Scientist middle+/Senior              None   \n",
       "3    Эконометрист/Data scientist (Junior/Middle) в ...              None   \n",
       "4                                       Data Scientist              None   \n",
       "..                                                 ...               ...   \n",
       "995           Системный аналитик (начинающий уровень )              None   \n",
       "996  Главный специалист Отдела аналитики и верифика...              None   \n",
       "997                                 Системный аналитик              None   \n",
       "998   Химик-аналитик в физико-химическое подразделение              None   \n",
       "999                               Оператор базы данных              None   \n",
       "\n",
       "     response_letter_required  \\\n",
       "0                       False   \n",
       "1                       False   \n",
       "2                       False   \n",
       "3                       False   \n",
       "4                       False   \n",
       "..                        ...   \n",
       "995                     False   \n",
       "996                     False   \n",
       "997                     False   \n",
       "998                     False   \n",
       "999                     False   \n",
       "\n",
       "                                                  area  \\\n",
       "0    {'id': '1', 'name': 'Москва', 'url': 'https://...   \n",
       "1    {'id': '1', 'name': 'Москва', 'url': 'https://...   \n",
       "2    {'id': '1', 'name': 'Москва', 'url': 'https://...   \n",
       "3    {'id': '1', 'name': 'Москва', 'url': 'https://...   \n",
       "4    {'id': '1', 'name': 'Москва', 'url': 'https://...   \n",
       "..                                                 ...   \n",
       "995  {'id': '1', 'name': 'Москва', 'url': 'https://...   \n",
       "996  {'id': '1', 'name': 'Москва', 'url': 'https://...   \n",
       "997  {'id': '1', 'name': 'Москва', 'url': 'https://...   \n",
       "998  {'id': '1', 'name': 'Москва', 'url': 'https://...   \n",
       "999  {'id': '1', 'name': 'Москва', 'url': 'https://...   \n",
       "\n",
       "                                                salary  \\\n",
       "0    {'from': 200000, 'to': 240000, 'currency': 'RU...   \n",
       "1                                                 None   \n",
       "2    {'from': 250000, 'to': 350000, 'currency': 'RU...   \n",
       "3    {'from': 40000, 'to': None, 'currency': 'RUR',...   \n",
       "4                                                 None   \n",
       "..                                                 ...   \n",
       "995                                               None   \n",
       "996                                               None   \n",
       "997                                               None   \n",
       "998  {'from': 60000, 'to': 70000, 'currency': 'RUR'...   \n",
       "999  {'from': 50000, 'to': None, 'currency': 'RUR',...   \n",
       "\n",
       "                                   type  \\\n",
       "0    {'id': 'open', 'name': 'Открытая'}   \n",
       "1    {'id': 'open', 'name': 'Открытая'}   \n",
       "2    {'id': 'open', 'name': 'Открытая'}   \n",
       "3    {'id': 'open', 'name': 'Открытая'}   \n",
       "4    {'id': 'open', 'name': 'Открытая'}   \n",
       "..                                  ...   \n",
       "995  {'id': 'open', 'name': 'Открытая'}   \n",
       "996  {'id': 'open', 'name': 'Открытая'}   \n",
       "997  {'id': 'open', 'name': 'Открытая'}   \n",
       "998  {'id': 'open', 'name': 'Открытая'}   \n",
       "999  {'id': 'open', 'name': 'Открытая'}   \n",
       "\n",
       "                                               address  ...  \\\n",
       "0    {'city': 'Москва', 'street': 'Походный проезд'...  ...   \n",
       "1                                                 None  ...   \n",
       "2                                                 None  ...   \n",
       "3    {'city': 'Москва', 'street': 'Замоскворецкая л...  ...   \n",
       "4    {'city': None, 'street': None, 'building': Non...  ...   \n",
       "..                                                 ...  ...   \n",
       "995                                               None  ...   \n",
       "996  {'city': None, 'street': None, 'building': Non...  ...   \n",
       "997  {'city': 'Москва', 'street': 'Варшавское шоссе...  ...   \n",
       "998  {'city': 'Королёв', 'street': 'микрорайон Подл...  ...   \n",
       "999  {'city': 'Москва', 'street': 'Рябиновая улица'...  ...   \n",
       "\n",
       "           initial_created_at  \\\n",
       "0    2022-12-29T12:15:51+0300   \n",
       "1    2023-02-02T10:39:25+0300   \n",
       "2    2023-02-20T12:06:39+0300   \n",
       "3    2023-01-09T12:41:38+0300   \n",
       "4    2023-03-03T16:15:22+0300   \n",
       "..                        ...   \n",
       "995  2023-01-24T17:59:24+0300   \n",
       "996  2023-01-27T16:00:58+0300   \n",
       "997  2023-02-22T14:52:40+0300   \n",
       "998  2023-03-03T14:52:32+0300   \n",
       "999  2023-03-03T16:42:08+0300   \n",
       "\n",
       "                                   apply_alternate_url has_test  test  \\\n",
       "0    https://hh.ru/applicant/vacancy_response?vacan...    False  None   \n",
       "1    https://hh.ru/applicant/vacancy_response?vacan...    False  None   \n",
       "2    https://hh.ru/applicant/vacancy_response?vacan...    False  None   \n",
       "3    https://hh.ru/applicant/vacancy_response?vacan...    False  None   \n",
       "4    https://hh.ru/applicant/vacancy_response?vacan...    False  None   \n",
       "..                                                 ...      ...   ...   \n",
       "995  https://hh.ru/applicant/vacancy_response?vacan...    False  None   \n",
       "996  https://hh.ru/applicant/vacancy_response?vacan...    False  None   \n",
       "997  https://hh.ru/applicant/vacancy_response?vacan...    False  None   \n",
       "998  https://hh.ru/applicant/vacancy_response?vacan...    False  None   \n",
       "999  https://hh.ru/applicant/vacancy_response?vacan...    False  None   \n",
       "\n",
       "                      alternate_url working_days working_time_intervals  \\\n",
       "0    https://hh.ru/vacancy/74376536         None                   None   \n",
       "1    https://hh.ru/vacancy/76536709         None                   None   \n",
       "2    https://hh.ru/vacancy/77208642         None                   None   \n",
       "3    https://hh.ru/vacancy/75546364         None                   None   \n",
       "4    https://hh.ru/vacancy/77656659         None                   None   \n",
       "..                              ...          ...                    ...   \n",
       "995  https://hh.ru/vacancy/76163248         None                   None   \n",
       "996  https://hh.ru/vacancy/76342686         None                   None   \n",
       "997  https://hh.ru/vacancy/77331462         None                   None   \n",
       "998  https://hh.ru/vacancy/77652216         None                   None   \n",
       "999  https://hh.ru/vacancy/77658165         None                   None   \n",
       "\n",
       "    working_time_modes accept_temporary  \\\n",
       "0                 None            False   \n",
       "1                 None            False   \n",
       "2                 None            False   \n",
       "3                 None            False   \n",
       "4                 None            False   \n",
       "..                 ...              ...   \n",
       "995               None            False   \n",
       "996               None            False   \n",
       "997               None            False   \n",
       "998               None            False   \n",
       "999               None            False   \n",
       "\n",
       "                                             languages  \n",
       "0                                                 None  \n",
       "1                                                 None  \n",
       "2                                                 None  \n",
       "3                                                 None  \n",
       "4                                                 None  \n",
       "..                                                 ...  \n",
       "995                                               None  \n",
       "996                                               None  \n",
       "997  [{'id': 'eng', 'name': 'Английский', 'level': ...  \n",
       "998                                               None  \n",
       "999                                               None  \n",
       "\n",
       "[1000 rows x 40 columns]"
      ]
     },
     "execution_count": 416,
     "metadata": {},
     "output_type": "execute_result"
    }
   ],
   "source": [
    "for column in vacancies.columns:\n",
    "    vacancies[column] = vacancies[column].apply(lambda x: None if (str(x) == 'None') or (str(x) == '[]') else x)\n",
    "\n",
    "vacancies = vacancies.dropna(axis=1, how='all')\n",
    "vacancies"
   ]
  },
  {
   "cell_type": "code",
   "execution_count": 417,
   "metadata": {},
   "outputs": [
    {
     "name": "stderr",
     "output_type": "stream",
     "text": [
      "/tmp/ipykernel_2162/3551270191.py:3: FutureWarning: save is not part of the public API, usage can give unexpected results and will be removed in a future version\n",
      "  writer.save()\n"
     ]
    }
   ],
   "source": [
    "writer = pd.ExcelWriter('~/Documents/Phystech/AD/4task/hh_vacancies.xlsx')\n",
    "vacancies.to_excel(writer, sheet_name='Sheet1')\n",
    "writer.save()"
   ]
  },
  {
   "cell_type": "markdown",
   "metadata": {},
   "source": [
    "**Полученную таблицу необходимо сохранить в формате xlsx и отправить боту вместе с решением.**"
   ]
  },
  {
   "cell_type": "markdown",
   "metadata": {},
   "source": [
    "**Вопрос 1.** Сколько сейчас доступно вакансий по вашему запросу?"
   ]
  },
  {
   "cell_type": "code",
   "execution_count": 418,
   "metadata": {},
   "outputs": [
    {
     "data": {
      "text/plain": [
       "0     66598\n",
       "1     66598\n",
       "2     66598\n",
       "3     66598\n",
       "4     66598\n",
       "      ...  \n",
       "95    66598\n",
       "96    66598\n",
       "97    66598\n",
       "98    66598\n",
       "99    66598\n",
       "Name: found, Length: 1000, dtype: int64"
      ]
     },
     "execution_count": 418,
     "metadata": {},
     "output_type": "execute_result"
    }
   ],
   "source": [
    "data['found']"
   ]
  },
  {
   "cell_type": "markdown",
   "metadata": {},
   "source": [
    "**Вопрос 2.** Какие навыки чаще всего встречаются в вакансиях по данной специальности?\n",
    "\n",
    "Для этого найдите соответствующее поле в данных из полного описания вакансий, проанализируйте его и составьте список навыков и количество упоминаний каждого. Визуализируйте полученную информацию по топ-15 навыков."
   ]
  },
  {
   "cell_type": "code",
   "execution_count": 419,
   "metadata": {},
   "outputs": [],
   "source": [
    "skills = dict()\n",
    "\n",
    "for i in range(vacancies['id'].count()):\n",
    "    if vacancies['key_skills'].iloc[i] is not None:\n",
    "        for x in vacancies['key_skills'].iloc[i]:\n",
    "            skills.setdefault(x['name'], 0)\n",
    "            skills[x['name']] += 1\n",
    "        \n",
    "skills_df = pd.DataFrame.from_dict([skills])"
   ]
  },
  {
   "cell_type": "markdown",
   "metadata": {},
   "source": [
    "Объединим наиболее популярные названия одних и тех же профессий: "
   ]
  },
  {
   "cell_type": "code",
   "execution_count": 420,
   "metadata": {},
   "outputs": [],
   "source": [
    "skills_df = skills_df.rename(columns={'Machine Learning': 'ML', 'Машинное обучение': 'ML'})\n",
    "skills_df = skills_df.rename(columns={'Математическая статистика': 'Statistics', 'Статистика': 'Statistics'})\n",
    "skills_df = skills_df.rename(columns={'Аналитические исследования': 'Analysis', 'Системный анализ': 'Analysis', 'Работа с большим объемом информации': 'Analysis', 'Big Data': 'Analysis', 'Анализ данных': 'Analysis', 'Data Analysis': 'Analysis'})\n",
    "skills_df = skills_df.rename(columns={'Аналитическое мышление': 'Аналитическое\\nмышление'})\n",
    "skills_df = skills_df.rename(columns={'Математическое моделирование': 'Мат.\\nмод.'})\n",
    "skills_df = skills_df.rename(columns={'MS PowerPoint': 'PowerPoint'})\n",
    "skills_df = skills_df.rename(columns={'MS Excel': 'Excel'})\n",
    "skills_df = skills_df.rename(columns={'Базы данных': 'БД'})\n",
    "skills_df = skills_df.rename(columns={'Английский язык': 'English'})"
   ]
  },
  {
   "cell_type": "code",
   "execution_count": 421,
   "metadata": {},
   "outputs": [],
   "source": [
    "skills_df = skills_df.transpose().reset_index().rename(columns={'index': 'Skill', 0: 'Count'})\n",
    "skills_df = skills_df.groupby('Skill').sum().reset_index()\n",
    "skills_df = skills_df.sort_values('Count', ascending=False)"
   ]
  },
  {
   "cell_type": "code",
   "execution_count": 422,
   "metadata": {},
   "outputs": [
    {
     "data": {
      "text/plain": [
       "Text(0.5, 1.0, 'Number of skills')"
      ]
     },
     "execution_count": 422,
     "metadata": {},
     "output_type": "execute_result"
    },
    {
     "data": {
      "image/png": "[encoded data removed]",
      "text/plain": [
       "<Figure size 3000x1000 with 1 Axes>"
      ]
     },
     "metadata": {},
     "output_type": "display_data"
    }
   ],
   "source": [
    "fig,ax = plt.subplots(figsize=(30, 10))\n",
    "sns.barplot(skills_df[:15], x='Skill', y='Count', width=1)\n",
    "ax.set_title('Number of skills')"
   ]
  },
  {
   "cell_type": "markdown",
   "metadata": {},
   "source": [
    "Наиболее популярными навыками являются знание языков Python, Sql и опыт работы с данными."
   ]
  },
  {
   "cell_type": "markdown",
   "metadata": {},
   "source": [
    "**Вопрос 3.** Какую зарплату готовы платить работодатели? Соберите некоторым образом статистику и постройте гистограмму.\n",
    "\n",
    "При работе с данными о заработной плате обратите внимание на валюту и <a target=\"_blank\" href=\"https://yandex.ru/search/?text=gross%2Fnet&clid=1955455&win=446&lr=213&noreask=1\">gross/net</a>. Постоянно подгружать курс валюты не требуется, достаточно фиксировать какой-то один более менее актуальный."
   ]
  },
  {
   "cell_type": "code",
   "execution_count": 423,
   "metadata": {},
   "outputs": [],
   "source": [
    "vacancies = vacancies.dropna(subset='salary')"
   ]
  },
  {
   "cell_type": "markdown",
   "metadata": {},
   "source": [
    "Введем актуальную зарплату, в которой будет храниться среднее значение диапазона зарплат в рублях после вычета налогов."
   ]
  },
  {
   "cell_type": "code",
   "execution_count": 424,
   "metadata": {},
   "outputs": [
    {
     "name": "stderr",
     "output_type": "stream",
     "text": [
      "/tmp/ipykernel_2162/2235108550.py:16: SettingWithCopyWarning: \n",
      "A value is trying to be set on a copy of a slice from a DataFrame.\n",
      "Try using .loc[row_indexer,col_indexer] = value instead\n",
      "\n",
      "See the caveats in the documentation: https://pandas.pydata.org/pandas-docs/stable/user_guide/indexing.html#returning-a-view-versus-a-copy\n",
      "  vacancies['act_salary'] = vacancies['salary'].apply(to_actual_salary)\n"
     ]
    }
   ],
   "source": [
    "def to_actual_salary(vacancy):\n",
    "    if vacancy['to'] is None:\n",
    "        sal = vacancy['from']\n",
    "    elif vacancy['from'] is None:\n",
    "        sal = vacancy['to']\n",
    "    else:\n",
    "        sal = (vacancy['from'] + vacancy['to']) / 2\n",
    "    if vacancy['currency'] == 'EUR':\n",
    "        sal *= 80.30\n",
    "    if vacancy['currency'] == 'USD':\n",
    "        sal *= 75.40\n",
    "    if vacancy['gross'] == True:\n",
    "        sal *= 0.85\n",
    "    return sal\n",
    "\n",
    "vacancies['act_salary'] = vacancies['salary'].apply(to_actual_salary)"
   ]
  },
  {
   "cell_type": "code",
   "execution_count": 425,
   "metadata": {},
   "outputs": [
    {
     "data": {
      "text/plain": [
       "Text(0.5, 1.0, 'Salary distribution')"
      ]
     },
     "execution_count": 425,
     "metadata": {},
     "output_type": "execute_result"
    },
    {
     "data": {
      "image/png": "[encoded data removed]",
      "text/plain": [
       "<Figure size 2000x1000 with 1 Axes>"
      ]
     },
     "metadata": {},
     "output_type": "display_data"
    }
   ],
   "source": [
    "fig,ax = plt.subplots(figsize=(20, 10))\n",
    "sns.histplot(vacancies, x='act_salary', bins=20, color='Red', stat='percent')\n",
    "ax.set_title('Salary distribution')"
   ]
  },
  {
   "cell_type": "markdown",
   "metadata": {},
   "source": [
    "Наиболе часто среди вакансий встречается зарплата 100000 рублей. Так же популярной является зарплата 70000 рублей. Более 350000 рублей же аналитики данных почти не получают."
   ]
  },
  {
   "cell_type": "markdown",
   "metadata": {},
   "source": [
    "Проведите аналогичный анализ для наиболее привлекательной для вас профессии в любом регионе. Если это Data Scientist, то для анализа выберите другую. В данном пункте спокойно можно сделать копипасту кода."
   ]
  },
  {
   "cell_type": "markdown",
   "metadata": {},
   "source": [
    "Получим новые данные:"
   ]
  },
  {
   "cell_type": "code",
   "execution_count": 319,
   "metadata": {},
   "outputs": [],
   "source": [
    "URL = 'https://api.hh.ru/vacancies'\n",
    "\n",
    "\n",
    "\n",
    "data2 = pd.DataFrame()\n",
    "\n",
    "for i in range(10):\n",
    "    params = {\n",
    "        'text': \"юри* OR lawyer\",\n",
    "        'area': 1,\n",
    "        'page': i,\n",
    "        'per_page': 100\n",
    "    }\n",
    "    req = requests.get(URL, params)\n",
    "    data2 = pd.concat([data2, pd.DataFrame(json.loads(req.content.decode()))])"
   ]
  },
  {
   "cell_type": "code",
   "execution_count": 320,
   "metadata": {},
   "outputs": [],
   "source": [
    "df2 = pd.json_normalize(data2['items'])"
   ]
  },
  {
   "cell_type": "code",
   "execution_count": 321,
   "metadata": {},
   "outputs": [],
   "source": [
    "df2 = df2.astype(str).drop_duplicates()"
   ]
  },
  {
   "cell_type": "code",
   "execution_count": 322,
   "metadata": {},
   "outputs": [],
   "source": [
    "vacancies_df2 = pd.DataFrame()\n",
    "\n",
    "for i in range(df2['id'].count()):\n",
    "    sleep(0.5)\n",
    "    vacancy2 = df2['id'].iloc[i]\n",
    "    vacancy_url = f'https://api.hh.ru/vacancies/{vacancy2}'\n",
    "    req = requests.get(vacancy_url)\n",
    "    vacancy_info2 = json.loads(req.content.decode())\n",
    "    vacancies_df2 = pd.concat([vacancies_df2, pd.DataFrame([vacancy_info2])], ignore_index=True)\n"
   ]
  },
  {
   "cell_type": "markdown",
   "metadata": {},
   "source": [
    "Как в прошлый раз заведем еще 1 переменную чтобы не тревожить сайт лишний раз"
   ]
  },
  {
   "cell_type": "code",
   "execution_count": 426,
   "metadata": {},
   "outputs": [],
   "source": [
    "vacancies2 = vacancies_df2"
   ]
  },
  {
   "cell_type": "markdown",
   "metadata": {},
   "source": [
    "Уберем ненужные столбцы(те, в которых все значения None или пустой список)"
   ]
  },
  {
   "cell_type": "code",
   "execution_count": 427,
   "metadata": {},
   "outputs": [],
   "source": [
    "for column in vacancies2.columns:\n",
    "    vacancies2[column] = vacancies2[column].apply(lambda x: None if (str(x) == 'None') or (str(x) == '[]') else x)\n",
    "\n",
    "vacancies2 = vacancies2.dropna(axis=1, how='all')"
   ]
  },
  {
   "cell_type": "code",
   "execution_count": 428,
   "metadata": {},
   "outputs": [
    {
     "name": "stderr",
     "output_type": "stream",
     "text": [
      "/tmp/ipykernel_2162/3996394225.py:3: FutureWarning: save is not part of the public API, usage can give unexpected results and will be removed in a future version\n",
      "  writer.save()\n"
     ]
    }
   ],
   "source": [
    "writer = pd.ExcelWriter('~/Documents/Phystech/AD/4task/hh_vacancies2.xlsx')\n",
    "vacancies2.to_excel(writer, sheet_name='Sheet1')\n",
    "writer.save()"
   ]
  },
  {
   "cell_type": "markdown",
   "metadata": {},
   "source": [
    "Находим количество упоминаний каждого навыка путем создания словаря навыков"
   ]
  },
  {
   "cell_type": "code",
   "execution_count": 429,
   "metadata": {},
   "outputs": [],
   "source": [
    "skills2 = dict()\n",
    "\n",
    "for i in range(vacancies2['id'].count()):\n",
    "    if vacancies2['key_skills'].iloc[i] is not None:\n",
    "        for x in vacancies2['key_skills'].iloc[i]:\n",
    "            skills2.setdefault(x['name'], 0)\n",
    "            skills2[x['name']] += 1\n",
    "        \n",
    "skills_df2 = pd.DataFrame.from_dict([skills2])"
   ]
  },
  {
   "cell_type": "markdown",
   "metadata": {},
   "source": [
    "Строим гистограмму количества навыков"
   ]
  },
  {
   "cell_type": "code",
   "execution_count": 430,
   "metadata": {},
   "outputs": [],
   "source": [
    "skills_df2 = skills_df2.rename(columns={'Деловая переписка': 'Переписка'})\n",
    "skills_df2 = skills_df2.rename(columns={\"Заключение договоров\": \"Договоры\",\"Согласование договоров\": \"Договоры\", 'Договорная работа': 'Договоры', 'Составление договоров': 'Договоры'})\n",
    "skills_df2 = skills_df2.rename(columns={'Претензионная работа': 'Претенз. раб.'})\n",
    "skills_df2 = skills_df2.rename(columns={'Деловое общение': 'Дел.общ.'})\n",
    "skills_df2 = skills_df2.rename(columns={\"Консультирование\": \"Консультации\", 'Консультант плюс': 'Консультации', \"Консультант+\" : \"Консультации\"})\n",
    "skills_df2 = skills_df2.rename(columns={'Грамотная речь': 'Грамотность'})\n",
    "skills_df2 = skills_df2.rename(columns={'Работа с большим объемом информации': 'Работосп.'})\n",
    "skills_df2 = skills_df2.rename(columns={'Гражданское право': 'Гражд. прав.'})\n",
    "skills_df2 = skills_df2.rename(columns={'Юридическая поддержка': 'Юр. под.'})\n",
    "skills_df2 = skills_df2.rename(columns={'Ведение переговоров': 'Переговоры'})\n",
    "skills_df2 = skills_df2.rename(columns={'Арбитражные суды': 'Арбитраж'})\n",
    "skills_df2 = skills_df2.rename(columns={'Пользователь ПК': 'ПК'})\n",
    "skills_df2 = skills_df2.rename(columns={'Мониторинг законодательства': 'Мониторинг'})\n",
    "skills_df2 = skills_df2.rename(columns={'Гражданский кодекс РФ': 'ГК РФ'})\n",
    "skills_df2 = skills_df2.rename(columns={'Знание законодательства РФ': 'Знание зак.'})\n",
    "skills_df2 = skills_df2.rename(columns={'Работа в команде': 'Раб. в ком.'})\n",
    "skills_df2 = skills_df2.rename(columns={'Работа с юридическими лицами': 'Раб. с юр.\\nлиц.'})\n",
    "skills_df2 = skills_df2.rename(columns={'Юридическое сопровождение': 'Юридическое\\nсопровождение'})\n",
    "skills_df2 = skills_df2.rename(columns={'Составление исков': 'Составление\\nисков'})"
   ]
  },
  {
   "cell_type": "code",
   "execution_count": 431,
   "metadata": {},
   "outputs": [],
   "source": [
    "skills_df2 = skills_df2.transpose().reset_index().rename(columns={'index': 'Skill', 0: 'Count'})\n",
    "skills_df2 = skills_df2.groupby('Skill').sum().reset_index()\n",
    "skills_df2 = skills_df2.sort_values('Count', ascending=False)"
   ]
  },
  {
   "cell_type": "code",
   "execution_count": 432,
   "metadata": {
    "scrolled": false
   },
   "outputs": [
    {
     "data": {
      "text/plain": [
       "Text(0.5, 1.0, 'Number of skills')"
      ]
     },
     "execution_count": 432,
     "metadata": {},
     "output_type": "execute_result"
    },
    {
     "data": {
      "image/png": "[encoded data removed]",
      "text/plain": [
       "<Figure size 3000x1000 with 1 Axes>"
      ]
     },
     "metadata": {},
     "output_type": "display_data"
    }
   ],
   "source": [
    "fig,ax = plt.subplots(figsize=(30, 10))\n",
    "sns.barplot(skills_df2[:15], x='Skill', y='Count', width=1)\n",
    "ax.set_title('Number of skills')"
   ]
  },
  {
   "cell_type": "markdown",
   "metadata": {},
   "source": [
    "Наиболее популярным и востребованным навыком в юридической сфере с большим отрывом является умение заключать договоры, остальные навыки востребованы примерно одинаково."
   ]
  },
  {
   "cell_type": "markdown",
   "metadata": {},
   "source": [
    "Находим распределение зарплат"
   ]
  },
  {
   "cell_type": "code",
   "execution_count": 433,
   "metadata": {},
   "outputs": [],
   "source": [
    "vacancies2 = vacancies2.dropna(subset='salary')"
   ]
  },
  {
   "cell_type": "code",
   "execution_count": 434,
   "metadata": {},
   "outputs": [],
   "source": [
    "def to_actual_salary(vacancy):\n",
    "    if vacancy['to'] is None:\n",
    "        sal = vacancy['from']\n",
    "    elif vacancy['from'] is None:\n",
    "        sal = vacancy['to']\n",
    "    else:\n",
    "        sal = (vacancy['from'] + vacancy['to']) / 2\n",
    "    if vacancy['currency'] == 'EUR':\n",
    "        sal *= 80.30\n",
    "    if vacancy['currency'] == 'USD':\n",
    "        sal *= 75.40\n",
    "    if vacancy['gross'] == True:\n",
    "        sal *= 0.85\n",
    "    return sal\n",
    "\n",
    "vacancies2['act_salary'] = vacancies2['salary'].apply(to_actual_salary)"
   ]
  },
  {
   "cell_type": "markdown",
   "metadata": {},
   "source": [
    "Строим гистограмму"
   ]
  },
  {
   "cell_type": "code",
   "execution_count": 435,
   "metadata": {},
   "outputs": [
    {
     "data": {
      "text/plain": [
       "(0.0, 200000.0)"
      ]
     },
     "execution_count": 435,
     "metadata": {},
     "output_type": "execute_result"
    },
    {
     "data": {
      "image/png": "[encoded data removed]",
      "text/plain": [
       "<Figure size 2000x1000 with 1 Axes>"
      ]
     },
     "metadata": {},
     "output_type": "display_data"
    }
   ],
   "source": [
    "fig,ax = plt.subplots(figsize=(20, 10))\n",
    "sns.histplot(vacancies2, x='act_salary', bins=15, color='Green', stat='percent')\n",
    "ax.set_title('Salary distribution')\n",
    "ax.set_xlim((0,200000))"
   ]
  },
  {
   "cell_type": "markdown",
   "metadata": {},
   "source": [
    "Можно заметить, что наибольшее количество вакансий юристов имеет среднюю зарплату 90000 рублей. В то же время очень малое количество юристов получает более 200000 рублей."
   ]
  },
  {
   "cell_type": "markdown",
   "metadata": {},
   "source": [
    "Не забывайте про выводы."
   ]
  },
  {
   "cell_type": "markdown",
   "metadata": {},
   "source": [
    "\n",
    "---\n",
    "### <font color=\"orange\"><i>Сложная часть</i></font>\n",
    "\n",
    "### Задача 2.   \n",
    "\n",
    "Для *одной* из рассмотренных ранее профессий ответьте на следующие вопросы:  \n",
    "- Какой опыт требуется для данной вакансии?\n",
    "- Какие работодатели в топе? \n",
    "- В каком районе Москвы данная вакансия пользуется наибольшим и наименьшим спросом?\n",
    "\n",
    "Не забудьте про визуализацию, в частности, постройте распределений вакансий на карте.\n",
    "\n",
    "*Напоминание.* Работа в некоторой степени творческая, поэтому конкретные детали решения в основном остаются на усмотрение автора решения.\n"
   ]
  },
  {
   "cell_type": "code",
   "execution_count": null,
   "metadata": {},
   "outputs": [],
   "source": [
    "..."
   ]
  },
  {
   "cell_type": "markdown",
   "metadata": {},
   "source": [
    "Какие выводы можно сделать из построенных графиков?\n",
    "\n",
    "<...>"
   ]
  }
 ],
 "metadata": {
  "colab": {
   "collapsed_sections": [],
   "name": "stats.ipynb",
   "provenance": [],
   "version": "0.3.2"
  },
  "kernelspec": {
   "display_name": "Python 3 (ipykernel)",
   "language": "python",
   "name": "python3"
  },
  "language_info": {
   "codemirror_mode": {
    "name": "ipython",
    "version": 3
   },
   "file_extension": ".py",
   "mimetype": "text/x-python",
   "name": "python",
   "nbconvert_exporter": "python",
   "pygments_lexer": "ipython3",
   "version": "3.10.9"
  }
 },
 "nbformat": 4,
 "nbformat_minor": 1
}
